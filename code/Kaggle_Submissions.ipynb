{
 "cells": [
  {
   "cell_type": "markdown",
   "metadata": {},
   "source": [
    "# Project 2: Ames Housing Data and Kaggle Challenge"
   ]
  },
  {
   "cell_type": "markdown",
   "metadata": {},
   "source": [
    " "
   ]
  },
  {
   "cell_type": "markdown",
   "metadata": {},
   "source": [
    "## Importing Libraries"
   ]
  },
  {
   "cell_type": "code",
   "execution_count": 1,
   "metadata": {
    "ExecuteTime": {
     "end_time": "2019-12-20T05:42:03.661150Z",
     "start_time": "2019-12-20T05:41:59.707345Z"
    }
   },
   "outputs": [],
   "source": [
    "import pandas as pd\n",
    "import numpy as np\n",
    "import seaborn as sns\n",
    "import matplotlib.pyplot as plt\n",
    "from sklearn.linear_model import LinearRegression, LassoCV, RidgeCV, ElasticNetCV\n",
    "from sklearn.preprocessing import PolynomialFeatures, StandardScaler\n",
    "from sklearn.model_selection import train_test_split, cross_val_score, cross_val_predict\n",
    "from sklearn.metrics import r2_score, mean_squared_error\n",
    "\n",
    "\n",
    "current_palette = sns.color_palette()\n",
    "sns.palplot(sns.color_palette(\"Paired\"))\n",
    "%matplotlib inline"
   ]
  },
  {
   "cell_type": "markdown",
   "metadata": {},
   "source": [
    "## Data Import and Cleaning"
   ]
  },
  {
   "cell_type": "markdown",
   "metadata": {},
   "source": [
    "#### Cleaning on the test.csv"
   ]
  },
  {
   "cell_type": "code",
   "execution_count": 2,
   "metadata": {
    "ExecuteTime": {
     "end_time": "2019-12-20T05:42:03.738924Z",
     "start_time": "2019-12-20T05:42:03.665055Z"
    }
   },
   "outputs": [],
   "source": [
    "#Reading the data\n",
    "test_df = pd.read_csv(\"../datasets/test.csv\")\n",
    "\n",
    "# replace spaces in column names and convert all columns to lowercase:\n",
    "test_df.columns = [x.lower().replace(' ','_') for x in test_df.columns]\n",
    "pd.options.display.max_columns = None"
   ]
  },
  {
   "cell_type": "code",
   "execution_count": 3,
   "metadata": {
    "ExecuteTime": {
     "end_time": "2019-12-20T05:42:04.291397Z",
     "start_time": "2019-12-20T05:42:04.186675Z"
    }
   },
   "outputs": [
    {
     "data": {
      "text/html": [
       "<div>\n",
       "<style scoped>\n",
       "    .dataframe tbody tr th:only-of-type {\n",
       "        vertical-align: middle;\n",
       "    }\n",
       "\n",
       "    .dataframe tbody tr th {\n",
       "        vertical-align: top;\n",
       "    }\n",
       "\n",
       "    .dataframe thead th {\n",
       "        text-align: right;\n",
       "    }\n",
       "</style>\n",
       "<table border=\"1\" class=\"dataframe\">\n",
       "  <thead>\n",
       "    <tr style=\"text-align: right;\">\n",
       "      <th></th>\n",
       "      <th>id</th>\n",
       "      <th>pid</th>\n",
       "      <th>ms_subclass</th>\n",
       "      <th>ms_zoning</th>\n",
       "      <th>lot_frontage</th>\n",
       "      <th>lot_area</th>\n",
       "      <th>street</th>\n",
       "      <th>alley</th>\n",
       "      <th>lot_shape</th>\n",
       "      <th>land_contour</th>\n",
       "      <th>utilities</th>\n",
       "      <th>lot_config</th>\n",
       "      <th>land_slope</th>\n",
       "      <th>neighborhood</th>\n",
       "      <th>condition_1</th>\n",
       "      <th>condition_2</th>\n",
       "      <th>bldg_type</th>\n",
       "      <th>house_style</th>\n",
       "      <th>overall_qual</th>\n",
       "      <th>overall_cond</th>\n",
       "      <th>year_built</th>\n",
       "      <th>year_remod/add</th>\n",
       "      <th>roof_style</th>\n",
       "      <th>roof_matl</th>\n",
       "      <th>exterior_1st</th>\n",
       "      <th>exterior_2nd</th>\n",
       "      <th>mas_vnr_type</th>\n",
       "      <th>mas_vnr_area</th>\n",
       "      <th>exter_qual</th>\n",
       "      <th>exter_cond</th>\n",
       "      <th>foundation</th>\n",
       "      <th>bsmt_qual</th>\n",
       "      <th>bsmt_cond</th>\n",
       "      <th>bsmt_exposure</th>\n",
       "      <th>bsmtfin_type_1</th>\n",
       "      <th>bsmtfin_sf_1</th>\n",
       "      <th>bsmtfin_type_2</th>\n",
       "      <th>bsmtfin_sf_2</th>\n",
       "      <th>bsmt_unf_sf</th>\n",
       "      <th>total_bsmt_sf</th>\n",
       "      <th>heating</th>\n",
       "      <th>heating_qc</th>\n",
       "      <th>central_air</th>\n",
       "      <th>electrical</th>\n",
       "      <th>1st_flr_sf</th>\n",
       "      <th>2nd_flr_sf</th>\n",
       "      <th>low_qual_fin_sf</th>\n",
       "      <th>gr_liv_area</th>\n",
       "      <th>bsmt_full_bath</th>\n",
       "      <th>bsmt_half_bath</th>\n",
       "      <th>full_bath</th>\n",
       "      <th>half_bath</th>\n",
       "      <th>bedroom_abvgr</th>\n",
       "      <th>kitchen_abvgr</th>\n",
       "      <th>kitchen_qual</th>\n",
       "      <th>totrms_abvgrd</th>\n",
       "      <th>functional</th>\n",
       "      <th>fireplaces</th>\n",
       "      <th>fireplace_qu</th>\n",
       "      <th>garage_type</th>\n",
       "      <th>garage_yr_blt</th>\n",
       "      <th>garage_finish</th>\n",
       "      <th>garage_cars</th>\n",
       "      <th>garage_area</th>\n",
       "      <th>garage_qual</th>\n",
       "      <th>garage_cond</th>\n",
       "      <th>paved_drive</th>\n",
       "      <th>wood_deck_sf</th>\n",
       "      <th>open_porch_sf</th>\n",
       "      <th>enclosed_porch</th>\n",
       "      <th>3ssn_porch</th>\n",
       "      <th>screen_porch</th>\n",
       "      <th>pool_area</th>\n",
       "      <th>pool_qc</th>\n",
       "      <th>fence</th>\n",
       "      <th>misc_feature</th>\n",
       "      <th>misc_val</th>\n",
       "      <th>mo_sold</th>\n",
       "      <th>yr_sold</th>\n",
       "      <th>sale_type</th>\n",
       "    </tr>\n",
       "  </thead>\n",
       "  <tbody>\n",
       "    <tr>\n",
       "      <th>0</th>\n",
       "      <td>2658</td>\n",
       "      <td>902301120</td>\n",
       "      <td>190</td>\n",
       "      <td>RM</td>\n",
       "      <td>69.0</td>\n",
       "      <td>9142</td>\n",
       "      <td>Pave</td>\n",
       "      <td>Grvl</td>\n",
       "      <td>Reg</td>\n",
       "      <td>Lvl</td>\n",
       "      <td>AllPub</td>\n",
       "      <td>Inside</td>\n",
       "      <td>Gtl</td>\n",
       "      <td>OldTown</td>\n",
       "      <td>Norm</td>\n",
       "      <td>Norm</td>\n",
       "      <td>2fmCon</td>\n",
       "      <td>2Story</td>\n",
       "      <td>6</td>\n",
       "      <td>8</td>\n",
       "      <td>1910</td>\n",
       "      <td>1950</td>\n",
       "      <td>Gable</td>\n",
       "      <td>CompShg</td>\n",
       "      <td>AsbShng</td>\n",
       "      <td>AsbShng</td>\n",
       "      <td>None</td>\n",
       "      <td>0.0</td>\n",
       "      <td>TA</td>\n",
       "      <td>Fa</td>\n",
       "      <td>Stone</td>\n",
       "      <td>Fa</td>\n",
       "      <td>TA</td>\n",
       "      <td>No</td>\n",
       "      <td>Unf</td>\n",
       "      <td>0</td>\n",
       "      <td>Unf</td>\n",
       "      <td>0</td>\n",
       "      <td>1020</td>\n",
       "      <td>1020</td>\n",
       "      <td>GasA</td>\n",
       "      <td>Gd</td>\n",
       "      <td>N</td>\n",
       "      <td>FuseP</td>\n",
       "      <td>908</td>\n",
       "      <td>1020</td>\n",
       "      <td>0</td>\n",
       "      <td>1928</td>\n",
       "      <td>0</td>\n",
       "      <td>0</td>\n",
       "      <td>2</td>\n",
       "      <td>0</td>\n",
       "      <td>4</td>\n",
       "      <td>2</td>\n",
       "      <td>Fa</td>\n",
       "      <td>9</td>\n",
       "      <td>Typ</td>\n",
       "      <td>0</td>\n",
       "      <td>NaN</td>\n",
       "      <td>Detchd</td>\n",
       "      <td>1910.0</td>\n",
       "      <td>Unf</td>\n",
       "      <td>1</td>\n",
       "      <td>440</td>\n",
       "      <td>Po</td>\n",
       "      <td>Po</td>\n",
       "      <td>Y</td>\n",
       "      <td>0</td>\n",
       "      <td>60</td>\n",
       "      <td>112</td>\n",
       "      <td>0</td>\n",
       "      <td>0</td>\n",
       "      <td>0</td>\n",
       "      <td>NaN</td>\n",
       "      <td>NaN</td>\n",
       "      <td>NaN</td>\n",
       "      <td>0</td>\n",
       "      <td>4</td>\n",
       "      <td>2006</td>\n",
       "      <td>WD</td>\n",
       "    </tr>\n",
       "    <tr>\n",
       "      <th>1</th>\n",
       "      <td>2718</td>\n",
       "      <td>905108090</td>\n",
       "      <td>90</td>\n",
       "      <td>RL</td>\n",
       "      <td>NaN</td>\n",
       "      <td>9662</td>\n",
       "      <td>Pave</td>\n",
       "      <td>NaN</td>\n",
       "      <td>IR1</td>\n",
       "      <td>Lvl</td>\n",
       "      <td>AllPub</td>\n",
       "      <td>Inside</td>\n",
       "      <td>Gtl</td>\n",
       "      <td>Sawyer</td>\n",
       "      <td>Norm</td>\n",
       "      <td>Norm</td>\n",
       "      <td>Duplex</td>\n",
       "      <td>1Story</td>\n",
       "      <td>5</td>\n",
       "      <td>4</td>\n",
       "      <td>1977</td>\n",
       "      <td>1977</td>\n",
       "      <td>Gable</td>\n",
       "      <td>CompShg</td>\n",
       "      <td>Plywood</td>\n",
       "      <td>Plywood</td>\n",
       "      <td>None</td>\n",
       "      <td>0.0</td>\n",
       "      <td>TA</td>\n",
       "      <td>TA</td>\n",
       "      <td>CBlock</td>\n",
       "      <td>Gd</td>\n",
       "      <td>TA</td>\n",
       "      <td>No</td>\n",
       "      <td>Unf</td>\n",
       "      <td>0</td>\n",
       "      <td>Unf</td>\n",
       "      <td>0</td>\n",
       "      <td>1967</td>\n",
       "      <td>1967</td>\n",
       "      <td>GasA</td>\n",
       "      <td>TA</td>\n",
       "      <td>Y</td>\n",
       "      <td>SBrkr</td>\n",
       "      <td>1967</td>\n",
       "      <td>0</td>\n",
       "      <td>0</td>\n",
       "      <td>1967</td>\n",
       "      <td>0</td>\n",
       "      <td>0</td>\n",
       "      <td>2</td>\n",
       "      <td>0</td>\n",
       "      <td>6</td>\n",
       "      <td>2</td>\n",
       "      <td>TA</td>\n",
       "      <td>10</td>\n",
       "      <td>Typ</td>\n",
       "      <td>0</td>\n",
       "      <td>NaN</td>\n",
       "      <td>Attchd</td>\n",
       "      <td>1977.0</td>\n",
       "      <td>Fin</td>\n",
       "      <td>2</td>\n",
       "      <td>580</td>\n",
       "      <td>TA</td>\n",
       "      <td>TA</td>\n",
       "      <td>Y</td>\n",
       "      <td>170</td>\n",
       "      <td>0</td>\n",
       "      <td>0</td>\n",
       "      <td>0</td>\n",
       "      <td>0</td>\n",
       "      <td>0</td>\n",
       "      <td>NaN</td>\n",
       "      <td>NaN</td>\n",
       "      <td>NaN</td>\n",
       "      <td>0</td>\n",
       "      <td>8</td>\n",
       "      <td>2006</td>\n",
       "      <td>WD</td>\n",
       "    </tr>\n",
       "    <tr>\n",
       "      <th>2</th>\n",
       "      <td>2414</td>\n",
       "      <td>528218130</td>\n",
       "      <td>60</td>\n",
       "      <td>RL</td>\n",
       "      <td>58.0</td>\n",
       "      <td>17104</td>\n",
       "      <td>Pave</td>\n",
       "      <td>NaN</td>\n",
       "      <td>IR1</td>\n",
       "      <td>Lvl</td>\n",
       "      <td>AllPub</td>\n",
       "      <td>Inside</td>\n",
       "      <td>Gtl</td>\n",
       "      <td>Gilbert</td>\n",
       "      <td>Norm</td>\n",
       "      <td>Norm</td>\n",
       "      <td>1Fam</td>\n",
       "      <td>2Story</td>\n",
       "      <td>7</td>\n",
       "      <td>5</td>\n",
       "      <td>2006</td>\n",
       "      <td>2006</td>\n",
       "      <td>Gable</td>\n",
       "      <td>CompShg</td>\n",
       "      <td>VinylSd</td>\n",
       "      <td>VinylSd</td>\n",
       "      <td>None</td>\n",
       "      <td>0.0</td>\n",
       "      <td>Gd</td>\n",
       "      <td>TA</td>\n",
       "      <td>PConc</td>\n",
       "      <td>Gd</td>\n",
       "      <td>Gd</td>\n",
       "      <td>Av</td>\n",
       "      <td>GLQ</td>\n",
       "      <td>554</td>\n",
       "      <td>Unf</td>\n",
       "      <td>0</td>\n",
       "      <td>100</td>\n",
       "      <td>654</td>\n",
       "      <td>GasA</td>\n",
       "      <td>Ex</td>\n",
       "      <td>Y</td>\n",
       "      <td>SBrkr</td>\n",
       "      <td>664</td>\n",
       "      <td>832</td>\n",
       "      <td>0</td>\n",
       "      <td>1496</td>\n",
       "      <td>1</td>\n",
       "      <td>0</td>\n",
       "      <td>2</td>\n",
       "      <td>1</td>\n",
       "      <td>3</td>\n",
       "      <td>1</td>\n",
       "      <td>Gd</td>\n",
       "      <td>7</td>\n",
       "      <td>Typ</td>\n",
       "      <td>1</td>\n",
       "      <td>Gd</td>\n",
       "      <td>Attchd</td>\n",
       "      <td>2006.0</td>\n",
       "      <td>RFn</td>\n",
       "      <td>2</td>\n",
       "      <td>426</td>\n",
       "      <td>TA</td>\n",
       "      <td>TA</td>\n",
       "      <td>Y</td>\n",
       "      <td>100</td>\n",
       "      <td>24</td>\n",
       "      <td>0</td>\n",
       "      <td>0</td>\n",
       "      <td>0</td>\n",
       "      <td>0</td>\n",
       "      <td>NaN</td>\n",
       "      <td>NaN</td>\n",
       "      <td>NaN</td>\n",
       "      <td>0</td>\n",
       "      <td>9</td>\n",
       "      <td>2006</td>\n",
       "      <td>New</td>\n",
       "    </tr>\n",
       "    <tr>\n",
       "      <th>3</th>\n",
       "      <td>1989</td>\n",
       "      <td>902207150</td>\n",
       "      <td>30</td>\n",
       "      <td>RM</td>\n",
       "      <td>60.0</td>\n",
       "      <td>8520</td>\n",
       "      <td>Pave</td>\n",
       "      <td>NaN</td>\n",
       "      <td>Reg</td>\n",
       "      <td>Lvl</td>\n",
       "      <td>AllPub</td>\n",
       "      <td>Inside</td>\n",
       "      <td>Gtl</td>\n",
       "      <td>OldTown</td>\n",
       "      <td>Norm</td>\n",
       "      <td>Norm</td>\n",
       "      <td>1Fam</td>\n",
       "      <td>1Story</td>\n",
       "      <td>5</td>\n",
       "      <td>6</td>\n",
       "      <td>1923</td>\n",
       "      <td>2006</td>\n",
       "      <td>Gable</td>\n",
       "      <td>CompShg</td>\n",
       "      <td>Wd Sdng</td>\n",
       "      <td>Wd Sdng</td>\n",
       "      <td>None</td>\n",
       "      <td>0.0</td>\n",
       "      <td>Gd</td>\n",
       "      <td>TA</td>\n",
       "      <td>CBlock</td>\n",
       "      <td>TA</td>\n",
       "      <td>TA</td>\n",
       "      <td>No</td>\n",
       "      <td>Unf</td>\n",
       "      <td>0</td>\n",
       "      <td>Unf</td>\n",
       "      <td>0</td>\n",
       "      <td>968</td>\n",
       "      <td>968</td>\n",
       "      <td>GasA</td>\n",
       "      <td>TA</td>\n",
       "      <td>Y</td>\n",
       "      <td>SBrkr</td>\n",
       "      <td>968</td>\n",
       "      <td>0</td>\n",
       "      <td>0</td>\n",
       "      <td>968</td>\n",
       "      <td>0</td>\n",
       "      <td>0</td>\n",
       "      <td>1</td>\n",
       "      <td>0</td>\n",
       "      <td>2</td>\n",
       "      <td>1</td>\n",
       "      <td>TA</td>\n",
       "      <td>5</td>\n",
       "      <td>Typ</td>\n",
       "      <td>0</td>\n",
       "      <td>NaN</td>\n",
       "      <td>Detchd</td>\n",
       "      <td>1935.0</td>\n",
       "      <td>Unf</td>\n",
       "      <td>2</td>\n",
       "      <td>480</td>\n",
       "      <td>Fa</td>\n",
       "      <td>TA</td>\n",
       "      <td>N</td>\n",
       "      <td>0</td>\n",
       "      <td>0</td>\n",
       "      <td>184</td>\n",
       "      <td>0</td>\n",
       "      <td>0</td>\n",
       "      <td>0</td>\n",
       "      <td>NaN</td>\n",
       "      <td>NaN</td>\n",
       "      <td>NaN</td>\n",
       "      <td>0</td>\n",
       "      <td>7</td>\n",
       "      <td>2007</td>\n",
       "      <td>WD</td>\n",
       "    </tr>\n",
       "    <tr>\n",
       "      <th>4</th>\n",
       "      <td>625</td>\n",
       "      <td>535105100</td>\n",
       "      <td>20</td>\n",
       "      <td>RL</td>\n",
       "      <td>NaN</td>\n",
       "      <td>9500</td>\n",
       "      <td>Pave</td>\n",
       "      <td>NaN</td>\n",
       "      <td>IR1</td>\n",
       "      <td>Lvl</td>\n",
       "      <td>AllPub</td>\n",
       "      <td>Inside</td>\n",
       "      <td>Gtl</td>\n",
       "      <td>NAmes</td>\n",
       "      <td>Norm</td>\n",
       "      <td>Norm</td>\n",
       "      <td>1Fam</td>\n",
       "      <td>1Story</td>\n",
       "      <td>6</td>\n",
       "      <td>5</td>\n",
       "      <td>1963</td>\n",
       "      <td>1963</td>\n",
       "      <td>Gable</td>\n",
       "      <td>CompShg</td>\n",
       "      <td>Plywood</td>\n",
       "      <td>Plywood</td>\n",
       "      <td>BrkFace</td>\n",
       "      <td>247.0</td>\n",
       "      <td>TA</td>\n",
       "      <td>TA</td>\n",
       "      <td>CBlock</td>\n",
       "      <td>Gd</td>\n",
       "      <td>TA</td>\n",
       "      <td>No</td>\n",
       "      <td>BLQ</td>\n",
       "      <td>609</td>\n",
       "      <td>Unf</td>\n",
       "      <td>0</td>\n",
       "      <td>785</td>\n",
       "      <td>1394</td>\n",
       "      <td>GasA</td>\n",
       "      <td>Gd</td>\n",
       "      <td>Y</td>\n",
       "      <td>SBrkr</td>\n",
       "      <td>1394</td>\n",
       "      <td>0</td>\n",
       "      <td>0</td>\n",
       "      <td>1394</td>\n",
       "      <td>1</td>\n",
       "      <td>0</td>\n",
       "      <td>1</td>\n",
       "      <td>1</td>\n",
       "      <td>3</td>\n",
       "      <td>1</td>\n",
       "      <td>TA</td>\n",
       "      <td>6</td>\n",
       "      <td>Typ</td>\n",
       "      <td>2</td>\n",
       "      <td>Gd</td>\n",
       "      <td>Attchd</td>\n",
       "      <td>1963.0</td>\n",
       "      <td>RFn</td>\n",
       "      <td>2</td>\n",
       "      <td>514</td>\n",
       "      <td>TA</td>\n",
       "      <td>TA</td>\n",
       "      <td>Y</td>\n",
       "      <td>0</td>\n",
       "      <td>76</td>\n",
       "      <td>0</td>\n",
       "      <td>0</td>\n",
       "      <td>185</td>\n",
       "      <td>0</td>\n",
       "      <td>NaN</td>\n",
       "      <td>NaN</td>\n",
       "      <td>NaN</td>\n",
       "      <td>0</td>\n",
       "      <td>7</td>\n",
       "      <td>2009</td>\n",
       "      <td>WD</td>\n",
       "    </tr>\n",
       "  </tbody>\n",
       "</table>\n",
       "</div>"
      ],
      "text/plain": [
       "     id        pid  ms_subclass ms_zoning  lot_frontage  lot_area street  \\\n",
       "0  2658  902301120          190        RM          69.0      9142   Pave   \n",
       "1  2718  905108090           90        RL           NaN      9662   Pave   \n",
       "2  2414  528218130           60        RL          58.0     17104   Pave   \n",
       "3  1989  902207150           30        RM          60.0      8520   Pave   \n",
       "4   625  535105100           20        RL           NaN      9500   Pave   \n",
       "\n",
       "  alley lot_shape land_contour utilities lot_config land_slope neighborhood  \\\n",
       "0  Grvl       Reg          Lvl    AllPub     Inside        Gtl      OldTown   \n",
       "1   NaN       IR1          Lvl    AllPub     Inside        Gtl       Sawyer   \n",
       "2   NaN       IR1          Lvl    AllPub     Inside        Gtl      Gilbert   \n",
       "3   NaN       Reg          Lvl    AllPub     Inside        Gtl      OldTown   \n",
       "4   NaN       IR1          Lvl    AllPub     Inside        Gtl        NAmes   \n",
       "\n",
       "  condition_1 condition_2 bldg_type house_style  overall_qual  overall_cond  \\\n",
       "0        Norm        Norm    2fmCon      2Story             6             8   \n",
       "1        Norm        Norm    Duplex      1Story             5             4   \n",
       "2        Norm        Norm      1Fam      2Story             7             5   \n",
       "3        Norm        Norm      1Fam      1Story             5             6   \n",
       "4        Norm        Norm      1Fam      1Story             6             5   \n",
       "\n",
       "   year_built  year_remod/add roof_style roof_matl exterior_1st exterior_2nd  \\\n",
       "0        1910            1950      Gable   CompShg      AsbShng      AsbShng   \n",
       "1        1977            1977      Gable   CompShg      Plywood      Plywood   \n",
       "2        2006            2006      Gable   CompShg      VinylSd      VinylSd   \n",
       "3        1923            2006      Gable   CompShg      Wd Sdng      Wd Sdng   \n",
       "4        1963            1963      Gable   CompShg      Plywood      Plywood   \n",
       "\n",
       "  mas_vnr_type  mas_vnr_area exter_qual exter_cond foundation bsmt_qual  \\\n",
       "0         None           0.0         TA         Fa      Stone        Fa   \n",
       "1         None           0.0         TA         TA     CBlock        Gd   \n",
       "2         None           0.0         Gd         TA      PConc        Gd   \n",
       "3         None           0.0         Gd         TA     CBlock        TA   \n",
       "4      BrkFace         247.0         TA         TA     CBlock        Gd   \n",
       "\n",
       "  bsmt_cond bsmt_exposure bsmtfin_type_1  bsmtfin_sf_1 bsmtfin_type_2  \\\n",
       "0        TA            No            Unf             0            Unf   \n",
       "1        TA            No            Unf             0            Unf   \n",
       "2        Gd            Av            GLQ           554            Unf   \n",
       "3        TA            No            Unf             0            Unf   \n",
       "4        TA            No            BLQ           609            Unf   \n",
       "\n",
       "   bsmtfin_sf_2  bsmt_unf_sf  total_bsmt_sf heating heating_qc central_air  \\\n",
       "0             0         1020           1020    GasA         Gd           N   \n",
       "1             0         1967           1967    GasA         TA           Y   \n",
       "2             0          100            654    GasA         Ex           Y   \n",
       "3             0          968            968    GasA         TA           Y   \n",
       "4             0          785           1394    GasA         Gd           Y   \n",
       "\n",
       "  electrical  1st_flr_sf  2nd_flr_sf  low_qual_fin_sf  gr_liv_area  \\\n",
       "0      FuseP         908        1020                0         1928   \n",
       "1      SBrkr        1967           0                0         1967   \n",
       "2      SBrkr         664         832                0         1496   \n",
       "3      SBrkr         968           0                0          968   \n",
       "4      SBrkr        1394           0                0         1394   \n",
       "\n",
       "   bsmt_full_bath  bsmt_half_bath  full_bath  half_bath  bedroom_abvgr  \\\n",
       "0               0               0          2          0              4   \n",
       "1               0               0          2          0              6   \n",
       "2               1               0          2          1              3   \n",
       "3               0               0          1          0              2   \n",
       "4               1               0          1          1              3   \n",
       "\n",
       "   kitchen_abvgr kitchen_qual  totrms_abvgrd functional  fireplaces  \\\n",
       "0              2           Fa              9        Typ           0   \n",
       "1              2           TA             10        Typ           0   \n",
       "2              1           Gd              7        Typ           1   \n",
       "3              1           TA              5        Typ           0   \n",
       "4              1           TA              6        Typ           2   \n",
       "\n",
       "  fireplace_qu garage_type  garage_yr_blt garage_finish  garage_cars  \\\n",
       "0          NaN      Detchd         1910.0           Unf            1   \n",
       "1          NaN      Attchd         1977.0           Fin            2   \n",
       "2           Gd      Attchd         2006.0           RFn            2   \n",
       "3          NaN      Detchd         1935.0           Unf            2   \n",
       "4           Gd      Attchd         1963.0           RFn            2   \n",
       "\n",
       "   garage_area garage_qual garage_cond paved_drive  wood_deck_sf  \\\n",
       "0          440          Po          Po           Y             0   \n",
       "1          580          TA          TA           Y           170   \n",
       "2          426          TA          TA           Y           100   \n",
       "3          480          Fa          TA           N             0   \n",
       "4          514          TA          TA           Y             0   \n",
       "\n",
       "   open_porch_sf  enclosed_porch  3ssn_porch  screen_porch  pool_area pool_qc  \\\n",
       "0             60             112           0             0          0     NaN   \n",
       "1              0               0           0             0          0     NaN   \n",
       "2             24               0           0             0          0     NaN   \n",
       "3              0             184           0             0          0     NaN   \n",
       "4             76               0           0           185          0     NaN   \n",
       "\n",
       "  fence misc_feature  misc_val  mo_sold  yr_sold sale_type  \n",
       "0   NaN          NaN         0        4     2006       WD   \n",
       "1   NaN          NaN         0        8     2006       WD   \n",
       "2   NaN          NaN         0        9     2006       New  \n",
       "3   NaN          NaN         0        7     2007       WD   \n",
       "4   NaN          NaN         0        7     2009       WD   "
      ]
     },
     "execution_count": 3,
     "metadata": {},
     "output_type": "execute_result"
    }
   ],
   "source": [
    "test_df.head(5)"
   ]
  },
  {
   "cell_type": "code",
   "execution_count": 4,
   "metadata": {
    "ExecuteTime": {
     "end_time": "2019-12-20T05:42:05.188624Z",
     "start_time": "2019-12-20T05:42:05.153721Z"
    }
   },
   "outputs": [
    {
     "name": "stdout",
     "output_type": "stream",
     "text": [
      "<class 'pandas.core.frame.DataFrame'>\n",
      "RangeIndex: 879 entries, 0 to 878\n",
      "Data columns (total 80 columns):\n",
      "id                 879 non-null int64\n",
      "pid                879 non-null int64\n",
      "ms_subclass        879 non-null int64\n",
      "ms_zoning          879 non-null object\n",
      "lot_frontage       719 non-null float64\n",
      "lot_area           879 non-null int64\n",
      "street             879 non-null object\n",
      "alley              58 non-null object\n",
      "lot_shape          879 non-null object\n",
      "land_contour       879 non-null object\n",
      "utilities          879 non-null object\n",
      "lot_config         879 non-null object\n",
      "land_slope         879 non-null object\n",
      "neighborhood       879 non-null object\n",
      "condition_1        879 non-null object\n",
      "condition_2        879 non-null object\n",
      "bldg_type          879 non-null object\n",
      "house_style        879 non-null object\n",
      "overall_qual       879 non-null int64\n",
      "overall_cond       879 non-null int64\n",
      "year_built         879 non-null int64\n",
      "year_remod/add     879 non-null int64\n",
      "roof_style         879 non-null object\n",
      "roof_matl          879 non-null object\n",
      "exterior_1st       879 non-null object\n",
      "exterior_2nd       879 non-null object\n",
      "mas_vnr_type       878 non-null object\n",
      "mas_vnr_area       878 non-null float64\n",
      "exter_qual         879 non-null object\n",
      "exter_cond         879 non-null object\n",
      "foundation         879 non-null object\n",
      "bsmt_qual          854 non-null object\n",
      "bsmt_cond          854 non-null object\n",
      "bsmt_exposure      854 non-null object\n",
      "bsmtfin_type_1     854 non-null object\n",
      "bsmtfin_sf_1       879 non-null int64\n",
      "bsmtfin_type_2     854 non-null object\n",
      "bsmtfin_sf_2       879 non-null int64\n",
      "bsmt_unf_sf        879 non-null int64\n",
      "total_bsmt_sf      879 non-null int64\n",
      "heating            879 non-null object\n",
      "heating_qc         879 non-null object\n",
      "central_air        879 non-null object\n",
      "electrical         878 non-null object\n",
      "1st_flr_sf         879 non-null int64\n",
      "2nd_flr_sf         879 non-null int64\n",
      "low_qual_fin_sf    879 non-null int64\n",
      "gr_liv_area        879 non-null int64\n",
      "bsmt_full_bath     879 non-null int64\n",
      "bsmt_half_bath     879 non-null int64\n",
      "full_bath          879 non-null int64\n",
      "half_bath          879 non-null int64\n",
      "bedroom_abvgr      879 non-null int64\n",
      "kitchen_abvgr      879 non-null int64\n",
      "kitchen_qual       879 non-null object\n",
      "totrms_abvgrd      879 non-null int64\n",
      "functional         879 non-null object\n",
      "fireplaces         879 non-null int64\n",
      "fireplace_qu       457 non-null object\n",
      "garage_type        835 non-null object\n",
      "garage_yr_blt      834 non-null float64\n",
      "garage_finish      834 non-null object\n",
      "garage_cars        879 non-null int64\n",
      "garage_area        879 non-null int64\n",
      "garage_qual        834 non-null object\n",
      "garage_cond        834 non-null object\n",
      "paved_drive        879 non-null object\n",
      "wood_deck_sf       879 non-null int64\n",
      "open_porch_sf      879 non-null int64\n",
      "enclosed_porch     879 non-null int64\n",
      "3ssn_porch         879 non-null int64\n",
      "screen_porch       879 non-null int64\n",
      "pool_area          879 non-null int64\n",
      "pool_qc            4 non-null object\n",
      "fence              172 non-null object\n",
      "misc_feature       41 non-null object\n",
      "misc_val           879 non-null int64\n",
      "mo_sold            879 non-null int64\n",
      "yr_sold            879 non-null int64\n",
      "sale_type          879 non-null object\n",
      "dtypes: float64(3), int64(35), object(42)\n",
      "memory usage: 549.5+ KB\n"
     ]
    }
   ],
   "source": [
    "#Checking the summary of the Dataframe\n",
    "test_df.info()"
   ]
  },
  {
   "cell_type": "code",
   "execution_count": 5,
   "metadata": {
    "ExecuteTime": {
     "end_time": "2019-12-20T05:42:05.945254Z",
     "start_time": "2019-12-20T05:42:05.933285Z"
    }
   },
   "outputs": [],
   "source": [
    "#dropping columns based on features not being used on the select model.(Lasso)\n",
    "test_df.drop(columns=['alley','pool_qc','misc_feature','id','pid','bsmtfin_sf_2','low_qual_fin_sf','bsmt_half_bath',\\\n",
    "                     'enclosed_porch','3ssn_porch','screen_porch','pool_area','misc_val','kitchen_abvgr','yr_sold',\\\n",
    "                     'mo_sold','bedroom_abvgr','bsmt_unf_sf','2nd_flr_sf','garage_yr_blt','half_bath','bsmt_full_bath',\\\n",
    "                     'lot_area','lot_frontage','wood_deck_sf','open_porch_sf', 'bsmtfin_sf_1','fireplaces','street',\\\n",
    "                     'land_contour','utilities','land_slope','condition_1','condition_2','bldg_type','roof_matl','exter_cond',\\\n",
    "                     'bsmt_cond','bsmtfin_type_2','heating','central_air','electrical','functional','garage_qual','garage_cond',\\\n",
    "                     'paved_drive', 'fence', 'sale_type'], inplace = True)"
   ]
  },
  {
   "cell_type": "code",
   "execution_count": 6,
   "metadata": {
    "ExecuteTime": {
     "end_time": "2019-12-20T05:42:07.019399Z",
     "start_time": "2019-12-20T05:42:06.993469Z"
    }
   },
   "outputs": [],
   "source": [
    "#Cleaning up the data.\n",
    "\n",
    "test_df['mas_vnr_area'].fillna(0, inplace=True) \n",
    "test_df['total_bsmt_sf'].fillna(0, inplace=True)  \n",
    "test_df['garage_cars'].fillna(0, inplace=True)                                  \n",
    "test_df['garage_area'].fillna(0, inplace=True) \n",
    "test_df['mas_vnr_type'].fillna('None', inplace=True)                                  \n",
    "test_df['bsmt_qual'].fillna('None', inplace=True)\n",
    "test_df['bsmt_exposure'].fillna('None', inplace=True)\n",
    "test_df['bsmtfin_type_1'].fillna('None', inplace=True)                                \n",
    "test_df['fireplace_qu'].fillna('None', inplace=True)    \n",
    "test_df['garage_type'].fillna('None', inplace=True)\n",
    "test_df['garage_finish'].fillna('None', inplace=True)\n",
    "\n",
    "#replace typo error in Exterior 2 column. Shld be CemntBd instead of CmentBd\n",
    "test_df['exterior_2nd'].replace('CmentBd','CemntBd', inplace = True)"
   ]
  },
  {
   "cell_type": "code",
   "execution_count": 7,
   "metadata": {
    "ExecuteTime": {
     "end_time": "2019-12-20T05:42:07.847431Z",
     "start_time": "2019-12-20T05:42:07.728720Z"
    }
   },
   "outputs": [
    {
     "data": {
      "text/html": [
       "<div>\n",
       "<style scoped>\n",
       "    .dataframe tbody tr th:only-of-type {\n",
       "        vertical-align: middle;\n",
       "    }\n",
       "\n",
       "    .dataframe tbody tr th {\n",
       "        vertical-align: top;\n",
       "    }\n",
       "\n",
       "    .dataframe thead th {\n",
       "        text-align: right;\n",
       "    }\n",
       "</style>\n",
       "<table border=\"1\" class=\"dataframe\">\n",
       "  <thead>\n",
       "    <tr style=\"text-align: right;\">\n",
       "      <th></th>\n",
       "      <th>ms_subclass</th>\n",
       "      <th>overall_qual</th>\n",
       "      <th>overall_cond</th>\n",
       "      <th>year_built</th>\n",
       "      <th>year_remod/add</th>\n",
       "      <th>mas_vnr_area</th>\n",
       "      <th>total_bsmt_sf</th>\n",
       "      <th>1st_flr_sf</th>\n",
       "      <th>gr_liv_area</th>\n",
       "      <th>full_bath</th>\n",
       "      <th>totrms_abvgrd</th>\n",
       "      <th>garage_cars</th>\n",
       "      <th>garage_area</th>\n",
       "    </tr>\n",
       "  </thead>\n",
       "  <tbody>\n",
       "    <tr>\n",
       "      <th>count</th>\n",
       "      <td>879.00</td>\n",
       "      <td>879.00</td>\n",
       "      <td>879.00</td>\n",
       "      <td>879.00</td>\n",
       "      <td>879.00</td>\n",
       "      <td>879.00</td>\n",
       "      <td>879.00</td>\n",
       "      <td>879.00</td>\n",
       "      <td>879.00</td>\n",
       "      <td>879.00</td>\n",
       "      <td>879.00</td>\n",
       "      <td>879.00</td>\n",
       "      <td>879.00</td>\n",
       "    </tr>\n",
       "    <tr>\n",
       "      <th>mean</th>\n",
       "      <td>58.27</td>\n",
       "      <td>6.05</td>\n",
       "      <td>5.57</td>\n",
       "      <td>1970.53</td>\n",
       "      <td>1984.44</td>\n",
       "      <td>106.86</td>\n",
       "      <td>1036.75</td>\n",
       "      <td>1148.05</td>\n",
       "      <td>1500.53</td>\n",
       "      <td>1.54</td>\n",
       "      <td>6.46</td>\n",
       "      <td>1.74</td>\n",
       "      <td>470.83</td>\n",
       "    </tr>\n",
       "    <tr>\n",
       "      <th>std</th>\n",
       "      <td>42.21</td>\n",
       "      <td>1.37</td>\n",
       "      <td>1.13</td>\n",
       "      <td>30.40</td>\n",
       "      <td>20.45</td>\n",
       "      <td>188.28</td>\n",
       "      <td>419.26</td>\n",
       "      <td>381.02</td>\n",
       "      <td>517.41</td>\n",
       "      <td>0.56</td>\n",
       "      <td>1.60</td>\n",
       "      <td>0.75</td>\n",
       "      <td>213.07</td>\n",
       "    </tr>\n",
       "    <tr>\n",
       "      <th>min</th>\n",
       "      <td>20.00</td>\n",
       "      <td>2.00</td>\n",
       "      <td>1.00</td>\n",
       "      <td>1880.00</td>\n",
       "      <td>1950.00</td>\n",
       "      <td>0.00</td>\n",
       "      <td>0.00</td>\n",
       "      <td>407.00</td>\n",
       "      <td>407.00</td>\n",
       "      <td>0.00</td>\n",
       "      <td>3.00</td>\n",
       "      <td>0.00</td>\n",
       "      <td>0.00</td>\n",
       "    </tr>\n",
       "    <tr>\n",
       "      <th>25%</th>\n",
       "      <td>20.00</td>\n",
       "      <td>5.00</td>\n",
       "      <td>5.00</td>\n",
       "      <td>1954.00</td>\n",
       "      <td>1967.00</td>\n",
       "      <td>0.00</td>\n",
       "      <td>790.00</td>\n",
       "      <td>864.00</td>\n",
       "      <td>1114.00</td>\n",
       "      <td>1.00</td>\n",
       "      <td>5.00</td>\n",
       "      <td>1.00</td>\n",
       "      <td>323.00</td>\n",
       "    </tr>\n",
       "    <tr>\n",
       "      <th>50%</th>\n",
       "      <td>50.00</td>\n",
       "      <td>6.00</td>\n",
       "      <td>5.00</td>\n",
       "      <td>1972.00</td>\n",
       "      <td>1992.00</td>\n",
       "      <td>0.00</td>\n",
       "      <td>975.00</td>\n",
       "      <td>1064.00</td>\n",
       "      <td>1436.00</td>\n",
       "      <td>2.00</td>\n",
       "      <td>6.00</td>\n",
       "      <td>2.00</td>\n",
       "      <td>473.00</td>\n",
       "    </tr>\n",
       "    <tr>\n",
       "      <th>75%</th>\n",
       "      <td>70.00</td>\n",
       "      <td>7.00</td>\n",
       "      <td>6.00</td>\n",
       "      <td>2000.00</td>\n",
       "      <td>2003.00</td>\n",
       "      <td>173.00</td>\n",
       "      <td>1248.00</td>\n",
       "      <td>1358.00</td>\n",
       "      <td>1781.00</td>\n",
       "      <td>2.00</td>\n",
       "      <td>7.00</td>\n",
       "      <td>2.00</td>\n",
       "      <td>576.00</td>\n",
       "    </tr>\n",
       "    <tr>\n",
       "      <th>max</th>\n",
       "      <td>190.00</td>\n",
       "      <td>10.00</td>\n",
       "      <td>9.00</td>\n",
       "      <td>2010.00</td>\n",
       "      <td>2010.00</td>\n",
       "      <td>1378.00</td>\n",
       "      <td>3138.00</td>\n",
       "      <td>3138.00</td>\n",
       "      <td>4676.00</td>\n",
       "      <td>4.00</td>\n",
       "      <td>12.00</td>\n",
       "      <td>4.00</td>\n",
       "      <td>1488.00</td>\n",
       "    </tr>\n",
       "  </tbody>\n",
       "</table>\n",
       "</div>"
      ],
      "text/plain": [
       "       ms_subclass  overall_qual  overall_cond  year_built  year_remod/add  \\\n",
       "count       879.00        879.00        879.00      879.00          879.00   \n",
       "mean         58.27          6.05          5.57     1970.53         1984.44   \n",
       "std          42.21          1.37          1.13       30.40           20.45   \n",
       "min          20.00          2.00          1.00     1880.00         1950.00   \n",
       "25%          20.00          5.00          5.00     1954.00         1967.00   \n",
       "50%          50.00          6.00          5.00     1972.00         1992.00   \n",
       "75%          70.00          7.00          6.00     2000.00         2003.00   \n",
       "max         190.00         10.00          9.00     2010.00         2010.00   \n",
       "\n",
       "       mas_vnr_area  total_bsmt_sf  1st_flr_sf  gr_liv_area  full_bath  \\\n",
       "count        879.00         879.00      879.00       879.00     879.00   \n",
       "mean         106.86        1036.75     1148.05      1500.53       1.54   \n",
       "std          188.28         419.26      381.02       517.41       0.56   \n",
       "min            0.00           0.00      407.00       407.00       0.00   \n",
       "25%            0.00         790.00      864.00      1114.00       1.00   \n",
       "50%            0.00         975.00     1064.00      1436.00       2.00   \n",
       "75%          173.00        1248.00     1358.00      1781.00       2.00   \n",
       "max         1378.00        3138.00     3138.00      4676.00       4.00   \n",
       "\n",
       "       totrms_abvgrd  garage_cars  garage_area  \n",
       "count         879.00       879.00       879.00  \n",
       "mean            6.46         1.74       470.83  \n",
       "std             1.60         0.75       213.07  \n",
       "min             3.00         0.00         0.00  \n",
       "25%             5.00         1.00       323.00  \n",
       "50%             6.00         2.00       473.00  \n",
       "75%             7.00         2.00       576.00  \n",
       "max            12.00         4.00      1488.00  "
      ]
     },
     "execution_count": 7,
     "metadata": {},
     "output_type": "execute_result"
    }
   ],
   "source": [
    "#Checking the numerical features\n",
    "test_df.describe().round(2)"
   ]
  },
  {
   "cell_type": "code",
   "execution_count": 8,
   "metadata": {
    "ExecuteTime": {
     "end_time": "2019-12-20T05:42:08.413525Z",
     "start_time": "2019-12-20T05:42:08.397568Z"
    }
   },
   "outputs": [],
   "source": [
    "#Convert some data types\n",
    "test_df['ms_subclass'] = test_df['ms_subclass'].astype(object)\n",
    "test_df['overall_qual'] = test_df['overall_qual'].astype(object)\n",
    "test_df['overall_cond'] = test_df['overall_cond'].astype(object)\n",
    "test_df['mas_vnr_area'] = test_df['mas_vnr_area'].astype(int)\n",
    "test_df['total_bsmt_sf'] = test_df['total_bsmt_sf'].astype(int)\n",
    "test_df['garage_cars'] = test_df['garage_cars'].astype(int)\n",
    "test_df['garage_area'] = test_df['garage_area'].astype(int)"
   ]
  },
  {
   "cell_type": "code",
   "execution_count": null,
   "metadata": {},
   "outputs": [],
   "source": []
  },
  {
   "cell_type": "markdown",
   "metadata": {},
   "source": [
    "## Converting test.csv to the required format."
   ]
  },
  {
   "cell_type": "code",
   "execution_count": 9,
   "metadata": {
    "ExecuteTime": {
     "end_time": "2019-12-20T05:42:11.350981Z",
     "start_time": "2019-12-20T05:42:11.342998Z"
    }
   },
   "outputs": [],
   "source": [
    "#Re-init. column_drop[] to hold new variables.\n",
    "column_drop = []\n",
    "#New dataframe for new dummies columns \n",
    "dummy=[]\n",
    "column_dummy = pd.DataFrame(dummy)"
   ]
  },
  {
   "cell_type": "code",
   "execution_count": 10,
   "metadata": {
    "ExecuteTime": {
     "end_time": "2019-12-20T05:42:13.378421Z",
     "start_time": "2019-12-20T05:42:13.357476Z"
    }
   },
   "outputs": [],
   "source": [
    "#Add _dummies for ms_subclass\n",
    "ms_subclass_dummy = pd.get_dummies(test_df['ms_subclass'],prefix='mssub', drop_first=True)\n",
    "\n",
    "#Add additional column\n",
    "ms_subclass_dummy['mssub_150'] = 0\n",
    "\n",
    "#Rearrange the columns\n",
    "columnsTitles = ['mssub_30','mssub_40','mssub_45','mssub_50','mssub_60','mssub_70','mssub_75','mssub_80',\\\n",
    "                 'mssub_85','mssub_90','mssub_120','mssub_150','mssub_160','mssub_180','mssub_190']\n",
    "ms_subclass_dummy = ms_subclass_dummy.reindex(columns=columnsTitles)\n",
    "\n",
    "column_drop.append('ms_subclass')\n",
    "column_dummy = pd.concat([column_dummy, ms_subclass_dummy], axis=1)\n"
   ]
  },
  {
   "cell_type": "code",
   "execution_count": 11,
   "metadata": {
    "ExecuteTime": {
     "end_time": "2019-12-20T05:42:14.135814Z",
     "start_time": "2019-12-20T05:42:14.122849Z"
    }
   },
   "outputs": [],
   "source": [
    "#Add _dummies for roof_style\n",
    "roof_style_dummy = pd.get_dummies(test_df['roof_style'],prefix='rfstyle', drop_first=True)\n",
    "\n",
    "column_drop.append('roof_style')\n",
    "column_dummy = pd.concat([column_dummy, roof_style_dummy], axis=1)"
   ]
  },
  {
   "cell_type": "code",
   "execution_count": 12,
   "metadata": {
    "ExecuteTime": {
     "end_time": "2019-12-20T05:42:14.661814Z",
     "start_time": "2019-12-20T05:42:14.640870Z"
    }
   },
   "outputs": [],
   "source": [
    "#Add _dummies for neighborhood\n",
    "neighborhood_dummy = pd.get_dummies(test_df['neighborhood'],prefix='neigh', drop_first=True)\n",
    "\n",
    "#Add additional column\n",
    "neighborhood_dummy['neigh_Landmrk'] = 0\n",
    "neighborhood_dummy['neigh_GrnHill'] = 0\n",
    "\n",
    "#Rearrange the columns\n",
    "columnsTitles = ['neigh_Blueste','neigh_BrDale','neigh_BrkSide','neigh_ClearCr','neigh_CollgCr','neigh_Crawfor',\\\n",
    "                 'neigh_Edwards','neigh_Gilbert','neigh_Greens','neigh_GrnHill','neigh_IDOTRR','neigh_Landmrk','neigh_MeadowV',\\\n",
    "                 'neigh_Mitchel','neigh_NAmes','neigh_NPkVill','neigh_NWAmes','neigh_NoRidge','neigh_NridgHt','neigh_OldTown',\\\n",
    "                 'neigh_SWISU','neigh_Sawyer','neigh_SawyerW','neigh_Somerst','neigh_StoneBr','neigh_Timber','neigh_Veenker']\n",
    "neighborhood_dummy = neighborhood_dummy.reindex(columns=columnsTitles)\n",
    "\n",
    "column_drop.append('neighborhood')\n",
    "column_dummy = pd.concat([column_dummy,neighborhood_dummy], axis=1)"
   ]
  },
  {
   "cell_type": "code",
   "execution_count": 13,
   "metadata": {
    "ExecuteTime": {
     "end_time": "2019-12-20T05:42:15.206810Z",
     "start_time": "2019-12-20T05:42:15.190853Z"
    }
   },
   "outputs": [],
   "source": [
    "#Add _dummies for mas_vnr_type\n",
    "mas_vnr_type_dummy = pd.get_dummies(test_df['mas_vnr_type'],prefix='mvtype',drop_first=True)\n",
    "\n",
    "column_drop.append('mas_vnr_type')\n",
    "column_dummy = pd.concat([column_dummy,mas_vnr_type_dummy], axis=1)"
   ]
  },
  {
   "cell_type": "code",
   "execution_count": 14,
   "metadata": {
    "ExecuteTime": {
     "end_time": "2019-12-20T05:42:15.613059Z",
     "start_time": "2019-12-20T05:42:15.596104Z"
    }
   },
   "outputs": [],
   "source": [
    "#Add _dummies for foundation\n",
    "foundation_dummy = pd.get_dummies(test_df['foundation'],prefix='fnd', drop_first=True)\n",
    "\n",
    "column_drop.append('foundation')\n",
    "column_dummy = pd.concat([column_dummy,foundation_dummy], axis=1)"
   ]
  },
  {
   "cell_type": "code",
   "execution_count": 15,
   "metadata": {
    "ExecuteTime": {
     "end_time": "2019-12-20T05:42:16.418818Z",
     "start_time": "2019-12-20T05:42:16.403891Z"
    }
   },
   "outputs": [],
   "source": [
    "#Add _dummies for garage_type\n",
    "garage_type_dummy = pd.get_dummies(test_df['garage_type'],prefix='gartyp', drop_first=True)\n",
    "\n",
    "column_drop.append('garage_type')\n",
    "column_dummy = pd.concat([column_dummy,garage_type_dummy], axis=1)"
   ]
  },
  {
   "cell_type": "code",
   "execution_count": 16,
   "metadata": {
    "ExecuteTime": {
     "end_time": "2019-12-20T05:42:17.115005Z",
     "start_time": "2019-12-20T05:42:17.085114Z"
    }
   },
   "outputs": [
    {
     "name": "stdout",
     "output_type": "stream",
     "text": [
      "Res_Yes    872\n",
      "dtype: int64\n"
     ]
    },
    {
     "data": {
      "text/html": [
       "<div>\n",
       "<style scoped>\n",
       "    .dataframe tbody tr th:only-of-type {\n",
       "        vertical-align: middle;\n",
       "    }\n",
       "\n",
       "    .dataframe tbody tr th {\n",
       "        vertical-align: top;\n",
       "    }\n",
       "\n",
       "    .dataframe thead th {\n",
       "        text-align: right;\n",
       "    }\n",
       "</style>\n",
       "<table border=\"1\" class=\"dataframe\">\n",
       "  <thead>\n",
       "    <tr style=\"text-align: right;\">\n",
       "      <th></th>\n",
       "      <th>Res_Yes</th>\n",
       "    </tr>\n",
       "  </thead>\n",
       "  <tbody>\n",
       "    <tr>\n",
       "      <th>0</th>\n",
       "      <td>1</td>\n",
       "    </tr>\n",
       "    <tr>\n",
       "      <th>1</th>\n",
       "      <td>1</td>\n",
       "    </tr>\n",
       "    <tr>\n",
       "      <th>2</th>\n",
       "      <td>1</td>\n",
       "    </tr>\n",
       "    <tr>\n",
       "      <th>3</th>\n",
       "      <td>1</td>\n",
       "    </tr>\n",
       "    <tr>\n",
       "      <th>4</th>\n",
       "      <td>1</td>\n",
       "    </tr>\n",
       "  </tbody>\n",
       "</table>\n",
       "</div>"
      ],
      "text/plain": [
       "   Res_Yes\n",
       "0        1\n",
       "1        1\n",
       "2        1\n",
       "3        1\n",
       "4        1"
      ]
     },
     "execution_count": 16,
     "metadata": {},
     "output_type": "execute_result"
    }
   ],
   "source": [
    "#Residential will include RH,RL,RP,RM,FV : Yes\n",
    "#Non-Residential will include C(all),A(agr),I(all): No\n",
    "residential_dummy = pd.get_dummies((test_df['ms_zoning'].map(lambda x: 'Yes' if (x == 'RL' or x == 'RM' or x == 'RH' \\\n",
    "                                                                                    or x == 'FV') else 'No')),prefix='Res', drop_first=True)\n",
    "\n",
    "column_drop.append('ms_zoning')\n",
    "column_dummy = pd.concat([column_dummy,residential_dummy], axis=1)\n",
    "\n",
    "print(residential_dummy.sum())\n",
    "residential_dummy.head()"
   ]
  },
  {
   "cell_type": "code",
   "execution_count": 17,
   "metadata": {
    "ExecuteTime": {
     "end_time": "2019-12-20T05:42:17.922049Z",
     "start_time": "2019-12-20T05:42:17.891140Z"
    }
   },
   "outputs": [
    {
     "name": "stdout",
     "output_type": "stream",
     "text": [
      "shapereg_Yes    564\n",
      "dtype: int64\n"
     ]
    },
    {
     "data": {
      "text/html": [
       "<div>\n",
       "<style scoped>\n",
       "    .dataframe tbody tr th:only-of-type {\n",
       "        vertical-align: middle;\n",
       "    }\n",
       "\n",
       "    .dataframe tbody tr th {\n",
       "        vertical-align: top;\n",
       "    }\n",
       "\n",
       "    .dataframe thead th {\n",
       "        text-align: right;\n",
       "    }\n",
       "</style>\n",
       "<table border=\"1\" class=\"dataframe\">\n",
       "  <thead>\n",
       "    <tr style=\"text-align: right;\">\n",
       "      <th></th>\n",
       "      <th>shapereg_Yes</th>\n",
       "    </tr>\n",
       "  </thead>\n",
       "  <tbody>\n",
       "    <tr>\n",
       "      <th>0</th>\n",
       "      <td>1</td>\n",
       "    </tr>\n",
       "    <tr>\n",
       "      <th>1</th>\n",
       "      <td>0</td>\n",
       "    </tr>\n",
       "    <tr>\n",
       "      <th>2</th>\n",
       "      <td>0</td>\n",
       "    </tr>\n",
       "    <tr>\n",
       "      <th>3</th>\n",
       "      <td>1</td>\n",
       "    </tr>\n",
       "    <tr>\n",
       "      <th>4</th>\n",
       "      <td>0</td>\n",
       "    </tr>\n",
       "  </tbody>\n",
       "</table>\n",
       "</div>"
      ],
      "text/plain": [
       "   shapereg_Yes\n",
       "0             1\n",
       "1             0\n",
       "2             0\n",
       "3             1\n",
       "4             0"
      ]
     },
     "execution_count": 17,
     "metadata": {},
     "output_type": "execute_result"
    }
   ],
   "source": [
    "#Regular lot shape will include Reg: Yes\n",
    "#Irregular lot shape will include IR1, IR2, IR3: No\n",
    "lotshape_dummy = pd.get_dummies((test_df['lot_shape'].map(lambda x: 'Yes' if (x == 'Reg') else 'No')),prefix='shapereg', drop_first=True)\n",
    "\n",
    "column_drop.append('lot_shape')\n",
    "column_dummy = pd.concat([column_dummy,lotshape_dummy], axis=1)\n",
    "\n",
    "\n",
    "print(lotshape_dummy.sum())\n",
    "lotshape_dummy.head()"
   ]
  },
  {
   "cell_type": "code",
   "execution_count": 18,
   "metadata": {
    "ExecuteTime": {
     "end_time": "2019-12-20T05:42:18.641182Z",
     "start_time": "2019-12-20T05:42:18.611290Z"
    }
   },
   "outputs": [
    {
     "name": "stdout",
     "output_type": "stream",
     "text": [
      "lotInside_Yes    637\n",
      "dtype: int64\n"
     ]
    },
    {
     "data": {
      "text/html": [
       "<div>\n",
       "<style scoped>\n",
       "    .dataframe tbody tr th:only-of-type {\n",
       "        vertical-align: middle;\n",
       "    }\n",
       "\n",
       "    .dataframe tbody tr th {\n",
       "        vertical-align: top;\n",
       "    }\n",
       "\n",
       "    .dataframe thead th {\n",
       "        text-align: right;\n",
       "    }\n",
       "</style>\n",
       "<table border=\"1\" class=\"dataframe\">\n",
       "  <thead>\n",
       "    <tr style=\"text-align: right;\">\n",
       "      <th></th>\n",
       "      <th>lotInside_Yes</th>\n",
       "    </tr>\n",
       "  </thead>\n",
       "  <tbody>\n",
       "    <tr>\n",
       "      <th>0</th>\n",
       "      <td>1</td>\n",
       "    </tr>\n",
       "    <tr>\n",
       "      <th>1</th>\n",
       "      <td>1</td>\n",
       "    </tr>\n",
       "    <tr>\n",
       "      <th>2</th>\n",
       "      <td>1</td>\n",
       "    </tr>\n",
       "    <tr>\n",
       "      <th>3</th>\n",
       "      <td>1</td>\n",
       "    </tr>\n",
       "    <tr>\n",
       "      <th>4</th>\n",
       "      <td>1</td>\n",
       "    </tr>\n",
       "  </tbody>\n",
       "</table>\n",
       "</div>"
      ],
      "text/plain": [
       "   lotInside_Yes\n",
       "0              1\n",
       "1              1\n",
       "2              1\n",
       "3              1\n",
       "4              1"
      ]
     },
     "execution_count": 18,
     "metadata": {},
     "output_type": "execute_result"
    }
   ],
   "source": [
    "#Inside will include Inside: Yes\n",
    "#Non-Inside lot config will include Corner,CulDSac,FR2,FR3: No\n",
    "lotconfig_dummy = pd.get_dummies((test_df['lot_config'].map(lambda x: 'Yes' if (x == 'Inside') else 'No')),prefix='lotInside', drop_first=True)\n",
    "\n",
    "column_drop.append('lot_config')\n",
    "column_dummy = pd.concat([column_dummy,lotconfig_dummy], axis=1)\n",
    "\n",
    "print(lotconfig_dummy.sum())\n",
    "lotconfig_dummy.head()"
   ]
  },
  {
   "cell_type": "code",
   "execution_count": 19,
   "metadata": {
    "ExecuteTime": {
     "end_time": "2019-12-20T05:42:19.532153Z",
     "start_time": "2019-12-20T05:42:19.503230Z"
    }
   },
   "outputs": [
    {
     "name": "stdout",
     "output_type": "stream",
     "text": [
      "1story_Yes    422\n",
      "dtype: int64\n"
     ]
    },
    {
     "data": {
      "text/html": [
       "<div>\n",
       "<style scoped>\n",
       "    .dataframe tbody tr th:only-of-type {\n",
       "        vertical-align: middle;\n",
       "    }\n",
       "\n",
       "    .dataframe tbody tr th {\n",
       "        vertical-align: top;\n",
       "    }\n",
       "\n",
       "    .dataframe thead th {\n",
       "        text-align: right;\n",
       "    }\n",
       "</style>\n",
       "<table border=\"1\" class=\"dataframe\">\n",
       "  <thead>\n",
       "    <tr style=\"text-align: right;\">\n",
       "      <th></th>\n",
       "      <th>1story_Yes</th>\n",
       "    </tr>\n",
       "  </thead>\n",
       "  <tbody>\n",
       "    <tr>\n",
       "      <th>0</th>\n",
       "      <td>0</td>\n",
       "    </tr>\n",
       "    <tr>\n",
       "      <th>1</th>\n",
       "      <td>1</td>\n",
       "    </tr>\n",
       "    <tr>\n",
       "      <th>2</th>\n",
       "      <td>0</td>\n",
       "    </tr>\n",
       "    <tr>\n",
       "      <th>3</th>\n",
       "      <td>1</td>\n",
       "    </tr>\n",
       "    <tr>\n",
       "      <th>4</th>\n",
       "      <td>1</td>\n",
       "    </tr>\n",
       "  </tbody>\n",
       "</table>\n",
       "</div>"
      ],
      "text/plain": [
       "   1story_Yes\n",
       "0           0\n",
       "1           1\n",
       "2           0\n",
       "3           1\n",
       "4           1"
      ]
     },
     "execution_count": 19,
     "metadata": {},
     "output_type": "execute_result"
    }
   ],
   "source": [
    "#Split Foyer & Split Level is group under non-1 story.\n",
    "#1 story will include 1Story: Yes\n",
    "#Non-1 story will include 2Story,1.5Fin,SLvl,SFoyer,2.5Unf,1.5Unf,2.5Fin: No\n",
    "hselevel_dummy = pd.get_dummies((test_df['house_style'].map(lambda x: 'Yes' if (x == '1Story') else 'No')),prefix='1story', drop_first=True)\n",
    "\n",
    "column_drop.append('house_style')\n",
    "column_dummy = pd.concat([column_dummy,hselevel_dummy], axis=1)\n",
    "\n",
    "print(hselevel_dummy.sum())\n",
    "hselevel_dummy.head()"
   ]
  },
  {
   "cell_type": "code",
   "execution_count": 20,
   "metadata": {
    "ExecuteTime": {
     "end_time": "2019-12-20T05:42:20.202653Z",
     "start_time": "2019-12-20T05:42:20.168702Z"
    }
   },
   "outputs": [
    {
     "name": "stdout",
     "output_type": "stream",
     "text": [
      "overallqty_below    344\n",
      "dtype: int64\n"
     ]
    },
    {
     "data": {
      "text/html": [
       "<div>\n",
       "<style scoped>\n",
       "    .dataframe tbody tr th:only-of-type {\n",
       "        vertical-align: middle;\n",
       "    }\n",
       "\n",
       "    .dataframe tbody tr th {\n",
       "        vertical-align: top;\n",
       "    }\n",
       "\n",
       "    .dataframe thead th {\n",
       "        text-align: right;\n",
       "    }\n",
       "</style>\n",
       "<table border=\"1\" class=\"dataframe\">\n",
       "  <thead>\n",
       "    <tr style=\"text-align: right;\">\n",
       "      <th></th>\n",
       "      <th>overallqty_below</th>\n",
       "    </tr>\n",
       "  </thead>\n",
       "  <tbody>\n",
       "    <tr>\n",
       "      <th>0</th>\n",
       "      <td>0</td>\n",
       "    </tr>\n",
       "    <tr>\n",
       "      <th>1</th>\n",
       "      <td>1</td>\n",
       "    </tr>\n",
       "    <tr>\n",
       "      <th>2</th>\n",
       "      <td>0</td>\n",
       "    </tr>\n",
       "    <tr>\n",
       "      <th>3</th>\n",
       "      <td>1</td>\n",
       "    </tr>\n",
       "    <tr>\n",
       "      <th>4</th>\n",
       "      <td>0</td>\n",
       "    </tr>\n",
       "  </tbody>\n",
       "</table>\n",
       "</div>"
      ],
      "text/plain": [
       "   overallqty_below\n",
       "0                 0\n",
       "1                 1\n",
       "2                 0\n",
       "3                 1\n",
       "4                 0"
      ]
     },
     "execution_count": 20,
     "metadata": {},
     "output_type": "execute_result"
    }
   ],
   "source": [
    "#AboveAvg will include 6, 7, 8, 9, 10 : abvavg\n",
    "#Avg and below will include 1, 2, 3, 4, 5: below\n",
    "overall_qual_dummy = pd.get_dummies((test_df['overall_qual'].map(lambda x: 'abvavg' if (x == 6 or x == 7 or x ==8 or \\\n",
    "                                                                                           x == 9 or x == 10) else 'below')),prefix='overallqty', drop_first=True)\n",
    "column_drop.append('overall_qual')\n",
    "column_dummy = pd.concat([column_dummy,overall_qual_dummy], axis=1)\n",
    "\n",
    "print(overall_qual_dummy.sum())\n",
    "overall_qual_dummy.head()"
   ]
  },
  {
   "cell_type": "code",
   "execution_count": 21,
   "metadata": {
    "ExecuteTime": {
     "end_time": "2019-12-20T05:42:20.959866Z",
     "start_time": "2019-12-20T05:42:20.927983Z"
    }
   },
   "outputs": [
    {
     "name": "stdout",
     "output_type": "stream",
     "text": [
      "overcond_below    539\n",
      "dtype: int64\n"
     ]
    },
    {
     "data": {
      "text/html": [
       "<div>\n",
       "<style scoped>\n",
       "    .dataframe tbody tr th:only-of-type {\n",
       "        vertical-align: middle;\n",
       "    }\n",
       "\n",
       "    .dataframe tbody tr th {\n",
       "        vertical-align: top;\n",
       "    }\n",
       "\n",
       "    .dataframe thead th {\n",
       "        text-align: right;\n",
       "    }\n",
       "</style>\n",
       "<table border=\"1\" class=\"dataframe\">\n",
       "  <thead>\n",
       "    <tr style=\"text-align: right;\">\n",
       "      <th></th>\n",
       "      <th>overcond_below</th>\n",
       "    </tr>\n",
       "  </thead>\n",
       "  <tbody>\n",
       "    <tr>\n",
       "      <th>0</th>\n",
       "      <td>0</td>\n",
       "    </tr>\n",
       "    <tr>\n",
       "      <th>1</th>\n",
       "      <td>1</td>\n",
       "    </tr>\n",
       "    <tr>\n",
       "      <th>2</th>\n",
       "      <td>1</td>\n",
       "    </tr>\n",
       "    <tr>\n",
       "      <th>3</th>\n",
       "      <td>0</td>\n",
       "    </tr>\n",
       "    <tr>\n",
       "      <th>4</th>\n",
       "      <td>1</td>\n",
       "    </tr>\n",
       "  </tbody>\n",
       "</table>\n",
       "</div>"
      ],
      "text/plain": [
       "   overcond_below\n",
       "0               0\n",
       "1               1\n",
       "2               1\n",
       "3               0\n",
       "4               1"
      ]
     },
     "execution_count": 21,
     "metadata": {},
     "output_type": "execute_result"
    }
   ],
   "source": [
    "#AboveAvg will include 6, 7, 8, 9, 10 : abvavg\n",
    "#Avg and below will include 1, 2, 3, 4, 5: below\n",
    "overall_cond_dummy = pd.get_dummies((test_df['overall_cond'].map(lambda x: 'abvavg' if (x == 6 or x == 7 or x ==8 or \\\n",
    "                                                                                           x == 9 or x == 10) else 'below')),prefix='overcond', drop_first=True)\n",
    "column_drop.append('overall_cond')\n",
    "column_dummy = pd.concat([column_dummy,overall_cond_dummy], axis=1)\n",
    "\n",
    "print(overall_cond_dummy.sum())\n",
    "overall_cond_dummy.head()"
   ]
  },
  {
   "cell_type": "code",
   "execution_count": 22,
   "metadata": {
    "ExecuteTime": {
     "end_time": "2019-12-20T05:43:01.535334Z",
     "start_time": "2019-12-20T05:42:21.955597Z"
    }
   },
   "outputs": [
    {
     "name": "stderr",
     "output_type": "stream",
     "text": [
      "C:\\Users\\PQKoh\\Anaconda3\\lib\\site-packages\\ipykernel_launcher.py:9: SettingWithCopyWarning: \n",
      "A value is trying to be set on a copy of a slice from a DataFrame\n",
      "\n",
      "See the caveats in the documentation: http://pandas.pydata.org/pandas-docs/stable/indexing.html#indexing-view-versus-copy\n",
      "  if __name__ == '__main__':\n",
      "C:\\Users\\PQKoh\\Anaconda3\\lib\\site-packages\\ipykernel_launcher.py:11: SettingWithCopyWarning: \n",
      "A value is trying to be set on a copy of a slice from a DataFrame\n",
      "\n",
      "See the caveats in the documentation: http://pandas.pydata.org/pandas-docs/stable/indexing.html#indexing-view-versus-copy\n",
      "  # This is added back by InteractiveShellApp.init_path()\n"
     ]
    }
   ],
   "source": [
    "#Ext. material more than 1 type: 1\n",
    "#Ext. material only 1 type : 0\n",
    "\n",
    "#iterate through each row and select 'exterior_1st' & 'exterior_2nd' column respectively.\n",
    "test_df['mat_more_than1'] = 0\n",
    "           \n",
    "for ind in test_df.index:\n",
    "    if (test_df['exterior_1st'][ind]) == (test_df['exterior_2nd'][ind]):\n",
    "        test_df['mat_more_than1'][ind] = 0\n",
    "    else:\n",
    "        test_df['mat_more_than1'][ind] = 1\n"
   ]
  },
  {
   "cell_type": "code",
   "execution_count": 23,
   "metadata": {
    "ExecuteTime": {
     "end_time": "2019-12-20T05:46:37.637020Z",
     "start_time": "2019-12-20T05:46:37.611089Z"
    }
   },
   "outputs": [
    {
     "name": "stdout",
     "output_type": "stream",
     "text": [
      "mat_morethan1_1    89\n",
      "dtype: int64\n"
     ]
    },
    {
     "data": {
      "text/html": [
       "<div>\n",
       "<style scoped>\n",
       "    .dataframe tbody tr th:only-of-type {\n",
       "        vertical-align: middle;\n",
       "    }\n",
       "\n",
       "    .dataframe tbody tr th {\n",
       "        vertical-align: top;\n",
       "    }\n",
       "\n",
       "    .dataframe thead th {\n",
       "        text-align: right;\n",
       "    }\n",
       "</style>\n",
       "<table border=\"1\" class=\"dataframe\">\n",
       "  <thead>\n",
       "    <tr style=\"text-align: right;\">\n",
       "      <th></th>\n",
       "      <th>mat_morethan1_1</th>\n",
       "    </tr>\n",
       "  </thead>\n",
       "  <tbody>\n",
       "    <tr>\n",
       "      <th>0</th>\n",
       "      <td>0</td>\n",
       "    </tr>\n",
       "    <tr>\n",
       "      <th>1</th>\n",
       "      <td>0</td>\n",
       "    </tr>\n",
       "    <tr>\n",
       "      <th>2</th>\n",
       "      <td>0</td>\n",
       "    </tr>\n",
       "    <tr>\n",
       "      <th>3</th>\n",
       "      <td>0</td>\n",
       "    </tr>\n",
       "    <tr>\n",
       "      <th>4</th>\n",
       "      <td>0</td>\n",
       "    </tr>\n",
       "  </tbody>\n",
       "</table>\n",
       "</div>"
      ],
      "text/plain": [
       "   mat_morethan1_1\n",
       "0                0\n",
       "1                0\n",
       "2                0\n",
       "3                0\n",
       "4                0"
      ]
     },
     "execution_count": 23,
     "metadata": {},
     "output_type": "execute_result"
    }
   ],
   "source": [
    "mat_morethan1_dummy = pd.get_dummies(test_df['mat_more_than1'],prefix='mat_morethan1', drop_first=True)\n",
    "\n",
    "column_drop.append('exterior_1st')\n",
    "column_drop.append('exterior_2nd')\n",
    "column_drop.append('mat_more_than1')\n",
    "column_dummy = pd.concat([column_dummy,mat_morethan1_dummy], axis=1)\n",
    "\n",
    "print(mat_morethan1_dummy.sum())\n",
    "mat_morethan1_dummy.head()"
   ]
  },
  {
   "cell_type": "code",
   "execution_count": 24,
   "metadata": {
    "ExecuteTime": {
     "end_time": "2019-12-20T05:46:38.378553Z",
     "start_time": "2019-12-20T05:46:38.352177Z"
    }
   },
   "outputs": [
    {
     "name": "stdout",
     "output_type": "stream",
     "text": [
      "extqual_below    561\n",
      "dtype: int64\n"
     ]
    },
    {
     "data": {
      "text/html": [
       "<div>\n",
       "<style scoped>\n",
       "    .dataframe tbody tr th:only-of-type {\n",
       "        vertical-align: middle;\n",
       "    }\n",
       "\n",
       "    .dataframe tbody tr th {\n",
       "        vertical-align: top;\n",
       "    }\n",
       "\n",
       "    .dataframe thead th {\n",
       "        text-align: right;\n",
       "    }\n",
       "</style>\n",
       "<table border=\"1\" class=\"dataframe\">\n",
       "  <thead>\n",
       "    <tr style=\"text-align: right;\">\n",
       "      <th></th>\n",
       "      <th>extqual_below</th>\n",
       "    </tr>\n",
       "  </thead>\n",
       "  <tbody>\n",
       "    <tr>\n",
       "      <th>0</th>\n",
       "      <td>1</td>\n",
       "    </tr>\n",
       "    <tr>\n",
       "      <th>1</th>\n",
       "      <td>1</td>\n",
       "    </tr>\n",
       "    <tr>\n",
       "      <th>2</th>\n",
       "      <td>0</td>\n",
       "    </tr>\n",
       "    <tr>\n",
       "      <th>3</th>\n",
       "      <td>0</td>\n",
       "    </tr>\n",
       "    <tr>\n",
       "      <th>4</th>\n",
       "      <td>1</td>\n",
       "    </tr>\n",
       "  </tbody>\n",
       "</table>\n",
       "</div>"
      ],
      "text/plain": [
       "   extqual_below\n",
       "0              1\n",
       "1              1\n",
       "2              0\n",
       "3              0\n",
       "4              1"
      ]
     },
     "execution_count": 24,
     "metadata": {},
     "output_type": "execute_result"
    }
   ],
   "source": [
    "#Ext. quality above average will include Gd,Ex: abvavg\n",
    "#Ext. quality average and below will include TA ,Fa : below\n",
    "exter_qual_dummy = pd.get_dummies((test_df['exter_qual'].map(lambda x:'abvavg'if (x == 'Gd' or x == 'Ex') else 'below')),prefix='extqual', drop_first=True)\n",
    "\n",
    "column_drop.append('exter_qual')\n",
    "column_dummy = pd.concat([column_dummy,exter_qual_dummy], axis=1)\n",
    "\n",
    "print(exter_qual_dummy.sum())\n",
    "exter_qual_dummy.head()"
   ]
  },
  {
   "cell_type": "code",
   "execution_count": 25,
   "metadata": {
    "ExecuteTime": {
     "end_time": "2019-12-20T05:46:39.483396Z",
     "start_time": "2019-12-20T05:46:39.454433Z"
    }
   },
   "outputs": [
    {
     "name": "stdout",
     "output_type": "stream",
     "text": [
      "bsmtheight_below80inc    54\n",
      "dtype: int64\n"
     ]
    },
    {
     "data": {
      "text/html": [
       "<div>\n",
       "<style scoped>\n",
       "    .dataframe tbody tr th:only-of-type {\n",
       "        vertical-align: middle;\n",
       "    }\n",
       "\n",
       "    .dataframe tbody tr th {\n",
       "        vertical-align: top;\n",
       "    }\n",
       "\n",
       "    .dataframe thead th {\n",
       "        text-align: right;\n",
       "    }\n",
       "</style>\n",
       "<table border=\"1\" class=\"dataframe\">\n",
       "  <thead>\n",
       "    <tr style=\"text-align: right;\">\n",
       "      <th></th>\n",
       "      <th>bsmtheight_below80inc</th>\n",
       "    </tr>\n",
       "  </thead>\n",
       "  <tbody>\n",
       "    <tr>\n",
       "      <th>0</th>\n",
       "      <td>1</td>\n",
       "    </tr>\n",
       "    <tr>\n",
       "      <th>1</th>\n",
       "      <td>0</td>\n",
       "    </tr>\n",
       "    <tr>\n",
       "      <th>2</th>\n",
       "      <td>0</td>\n",
       "    </tr>\n",
       "    <tr>\n",
       "      <th>3</th>\n",
       "      <td>0</td>\n",
       "    </tr>\n",
       "    <tr>\n",
       "      <th>4</th>\n",
       "      <td>0</td>\n",
       "    </tr>\n",
       "  </tbody>\n",
       "</table>\n",
       "</div>"
      ],
      "text/plain": [
       "   bsmtheight_below80inc\n",
       "0                      1\n",
       "1                      0\n",
       "2                      0\n",
       "3                      0\n",
       "4                      0"
      ]
     },
     "execution_count": 25,
     "metadata": {},
     "output_type": "execute_result"
    }
   ],
   "source": [
    "#Basement height >= 80\" will include TA,Gd,Ex: abv80inc\n",
    "#Basement height < 80\" will include Fa,Po,None : below80inc\n",
    "bsmt_height_dummy = pd.get_dummies((test_df['bsmt_qual'].map(lambda x:'abv80inc'if (x == 'TA' or x == 'Gd' or x == 'Ex') else 'below80inc')),prefix='bsmtheight', drop_first=True)\n",
    "\n",
    "column_drop.append('bsmt_qual')\n",
    "column_dummy = pd.concat([column_dummy,bsmt_height_dummy], axis=1)\n",
    "\n",
    "print(bsmt_height_dummy.sum())\n",
    "bsmt_height_dummy.head()"
   ]
  },
  {
   "cell_type": "code",
   "execution_count": 26,
   "metadata": {
    "ExecuteTime": {
     "end_time": "2019-12-20T05:46:39.943974Z",
     "start_time": "2019-12-20T05:46:39.914025Z"
    }
   },
   "outputs": [
    {
     "name": "stdout",
     "output_type": "stream",
     "text": [
      "bsmtexp_Yes    312\n",
      "dtype: int64\n"
     ]
    },
    {
     "data": {
      "text/html": [
       "<div>\n",
       "<style scoped>\n",
       "    .dataframe tbody tr th:only-of-type {\n",
       "        vertical-align: middle;\n",
       "    }\n",
       "\n",
       "    .dataframe tbody tr th {\n",
       "        vertical-align: top;\n",
       "    }\n",
       "\n",
       "    .dataframe thead th {\n",
       "        text-align: right;\n",
       "    }\n",
       "</style>\n",
       "<table border=\"1\" class=\"dataframe\">\n",
       "  <thead>\n",
       "    <tr style=\"text-align: right;\">\n",
       "      <th></th>\n",
       "      <th>bsmtexp_Yes</th>\n",
       "    </tr>\n",
       "  </thead>\n",
       "  <tbody>\n",
       "    <tr>\n",
       "      <th>0</th>\n",
       "      <td>0</td>\n",
       "    </tr>\n",
       "    <tr>\n",
       "      <th>1</th>\n",
       "      <td>0</td>\n",
       "    </tr>\n",
       "    <tr>\n",
       "      <th>2</th>\n",
       "      <td>1</td>\n",
       "    </tr>\n",
       "    <tr>\n",
       "      <th>3</th>\n",
       "      <td>0</td>\n",
       "    </tr>\n",
       "    <tr>\n",
       "      <th>4</th>\n",
       "      <td>0</td>\n",
       "    </tr>\n",
       "  </tbody>\n",
       "</table>\n",
       "</div>"
      ],
      "text/plain": [
       "   bsmtexp_Yes\n",
       "0            0\n",
       "1            0\n",
       "2            1\n",
       "3            0\n",
       "4            0"
      ]
     },
     "execution_count": 26,
     "metadata": {},
     "output_type": "execute_result"
    }
   ],
   "source": [
    "#Basement exposure yes will include Av,Gd,Mn: Yes\n",
    "#Basement exposure no will include No : No\n",
    "bsmt_exposure_dummy = pd.get_dummies((test_df['bsmt_exposure'].map(lambda x:'No'if (x == 'No') else 'Yes')),prefix='bsmtexp', drop_first=True)\n",
    "\n",
    "column_drop.append('bsmt_exposure')\n",
    "column_dummy = pd.concat([column_dummy,bsmt_exposure_dummy], axis=1)\n",
    "\n",
    "print(bsmt_exposure_dummy.sum())\n",
    "bsmt_exposure_dummy.head()"
   ]
  },
  {
   "cell_type": "code",
   "execution_count": 27,
   "metadata": {
    "ExecuteTime": {
     "end_time": "2019-12-20T05:46:40.320225Z",
     "start_time": "2019-12-20T05:46:40.289314Z"
    }
   },
   "outputs": [
    {
     "name": "stdout",
     "output_type": "stream",
     "text": [
      "bsmtfin_Yes    606\n",
      "dtype: int64\n"
     ]
    },
    {
     "data": {
      "text/html": [
       "<div>\n",
       "<style scoped>\n",
       "    .dataframe tbody tr th:only-of-type {\n",
       "        vertical-align: middle;\n",
       "    }\n",
       "\n",
       "    .dataframe tbody tr th {\n",
       "        vertical-align: top;\n",
       "    }\n",
       "\n",
       "    .dataframe thead th {\n",
       "        text-align: right;\n",
       "    }\n",
       "</style>\n",
       "<table border=\"1\" class=\"dataframe\">\n",
       "  <thead>\n",
       "    <tr style=\"text-align: right;\">\n",
       "      <th></th>\n",
       "      <th>bsmtfin_Yes</th>\n",
       "    </tr>\n",
       "  </thead>\n",
       "  <tbody>\n",
       "    <tr>\n",
       "      <th>0</th>\n",
       "      <td>0</td>\n",
       "    </tr>\n",
       "    <tr>\n",
       "      <th>1</th>\n",
       "      <td>0</td>\n",
       "    </tr>\n",
       "    <tr>\n",
       "      <th>2</th>\n",
       "      <td>1</td>\n",
       "    </tr>\n",
       "    <tr>\n",
       "      <th>3</th>\n",
       "      <td>0</td>\n",
       "    </tr>\n",
       "    <tr>\n",
       "      <th>4</th>\n",
       "      <td>1</td>\n",
       "    </tr>\n",
       "  </tbody>\n",
       "</table>\n",
       "</div>"
      ],
      "text/plain": [
       "   bsmtfin_Yes\n",
       "0            0\n",
       "1            0\n",
       "2            1\n",
       "3            0\n",
       "4            1"
      ]
     },
     "execution_count": 27,
     "metadata": {},
     "output_type": "execute_result"
    }
   ],
   "source": [
    "#Basement finished yes will include GLQ,ALQ,BLQ,Rec,LwQ: Yes\n",
    "#Basement finished no will include Unf,None : No\n",
    "bsmt_finish_dummy = pd.get_dummies((test_df['bsmtfin_type_1'].map(lambda x:'No'if (x == 'Unf' or x == 'None') else 'Yes')),prefix='bsmtfin', drop_first=True)\n",
    "\n",
    "column_drop.append('bsmtfin_type_1')\n",
    "column_dummy = pd.concat([column_dummy,bsmt_finish_dummy], axis=1)\n",
    "\n",
    "print(bsmt_finish_dummy.sum())\n",
    "bsmt_finish_dummy.head()"
   ]
  },
  {
   "cell_type": "code",
   "execution_count": 28,
   "metadata": {
    "ExecuteTime": {
     "end_time": "2019-12-20T05:46:40.593993Z",
     "start_time": "2019-12-20T05:46:40.562111Z"
    }
   },
   "outputs": [
    {
     "name": "stdout",
     "output_type": "stream",
     "text": [
      "heatqc_below    292\n",
      "dtype: int64\n"
     ]
    },
    {
     "data": {
      "text/html": [
       "<div>\n",
       "<style scoped>\n",
       "    .dataframe tbody tr th:only-of-type {\n",
       "        vertical-align: middle;\n",
       "    }\n",
       "\n",
       "    .dataframe tbody tr th {\n",
       "        vertical-align: top;\n",
       "    }\n",
       "\n",
       "    .dataframe thead th {\n",
       "        text-align: right;\n",
       "    }\n",
       "</style>\n",
       "<table border=\"1\" class=\"dataframe\">\n",
       "  <thead>\n",
       "    <tr style=\"text-align: right;\">\n",
       "      <th></th>\n",
       "      <th>heatqc_below</th>\n",
       "    </tr>\n",
       "  </thead>\n",
       "  <tbody>\n",
       "    <tr>\n",
       "      <th>0</th>\n",
       "      <td>0</td>\n",
       "    </tr>\n",
       "    <tr>\n",
       "      <th>1</th>\n",
       "      <td>1</td>\n",
       "    </tr>\n",
       "    <tr>\n",
       "      <th>2</th>\n",
       "      <td>0</td>\n",
       "    </tr>\n",
       "    <tr>\n",
       "      <th>3</th>\n",
       "      <td>1</td>\n",
       "    </tr>\n",
       "    <tr>\n",
       "      <th>4</th>\n",
       "      <td>0</td>\n",
       "    </tr>\n",
       "  </tbody>\n",
       "</table>\n",
       "</div>"
      ],
      "text/plain": [
       "   heatqc_below\n",
       "0             0\n",
       "1             1\n",
       "2             0\n",
       "3             1\n",
       "4             0"
      ]
     },
     "execution_count": 28,
     "metadata": {},
     "output_type": "execute_result"
    }
   ],
   "source": [
    "#Heating qc above avg will include Ex,Gd: abvavg\n",
    "#Heating qc average and below will include TA,Fa,Po : below\n",
    "heatqc_dummy = pd.get_dummies((test_df['heating_qc'].map(lambda x:'abvavg'if (x == 'Ex' or x == 'Gd') else 'below')),prefix='heatqc', drop_first=True)\n",
    "\n",
    "column_drop.append('heating_qc')\n",
    "column_dummy = pd.concat([column_dummy,heatqc_dummy], axis=1)\n",
    "\n",
    "print(heatqc_dummy.sum())\n",
    "heatqc_dummy.head()"
   ]
  },
  {
   "cell_type": "code",
   "execution_count": 29,
   "metadata": {
    "ExecuteTime": {
     "end_time": "2019-12-20T05:46:40.912100Z",
     "start_time": "2019-12-20T05:46:40.884174Z"
    }
   },
   "outputs": [
    {
     "name": "stdout",
     "output_type": "stream",
     "text": [
      "kitqc_below    471\n",
      "dtype: int64\n"
     ]
    },
    {
     "data": {
      "text/html": [
       "<div>\n",
       "<style scoped>\n",
       "    .dataframe tbody tr th:only-of-type {\n",
       "        vertical-align: middle;\n",
       "    }\n",
       "\n",
       "    .dataframe tbody tr th {\n",
       "        vertical-align: top;\n",
       "    }\n",
       "\n",
       "    .dataframe thead th {\n",
       "        text-align: right;\n",
       "    }\n",
       "</style>\n",
       "<table border=\"1\" class=\"dataframe\">\n",
       "  <thead>\n",
       "    <tr style=\"text-align: right;\">\n",
       "      <th></th>\n",
       "      <th>kitqc_below</th>\n",
       "    </tr>\n",
       "  </thead>\n",
       "  <tbody>\n",
       "    <tr>\n",
       "      <th>0</th>\n",
       "      <td>1</td>\n",
       "    </tr>\n",
       "    <tr>\n",
       "      <th>1</th>\n",
       "      <td>1</td>\n",
       "    </tr>\n",
       "    <tr>\n",
       "      <th>2</th>\n",
       "      <td>0</td>\n",
       "    </tr>\n",
       "    <tr>\n",
       "      <th>3</th>\n",
       "      <td>1</td>\n",
       "    </tr>\n",
       "    <tr>\n",
       "      <th>4</th>\n",
       "      <td>1</td>\n",
       "    </tr>\n",
       "  </tbody>\n",
       "</table>\n",
       "</div>"
      ],
      "text/plain": [
       "   kitqc_below\n",
       "0            1\n",
       "1            1\n",
       "2            0\n",
       "3            1\n",
       "4            1"
      ]
     },
     "execution_count": 29,
     "metadata": {},
     "output_type": "execute_result"
    }
   ],
   "source": [
    "#Kitchen qc above avg will include Ex,Gd: abvavg\n",
    "#Kitchen qc average and below will include TA,Fa,Po : below\n",
    "kitqc_dummy = pd.get_dummies((test_df['kitchen_qual'].map(lambda x:'abvavg'if (x == 'Ex' or x == 'Gd') else 'below')),prefix='kitqc', drop_first=True)\n",
    "\n",
    "column_drop.append('kitchen_qual')\n",
    "column_dummy = pd.concat([column_dummy,kitqc_dummy], axis=1)\n",
    "\n",
    "print(kitqc_dummy.sum())\n",
    "kitqc_dummy.head()"
   ]
  },
  {
   "cell_type": "code",
   "execution_count": 30,
   "metadata": {
    "ExecuteTime": {
     "end_time": "2019-12-20T05:46:41.195876Z",
     "start_time": "2019-12-20T05:46:41.167916Z"
    }
   },
   "outputs": [
    {
     "name": "stdout",
     "output_type": "stream",
     "text": [
      "firepl_Yes    457\n",
      "dtype: int64\n"
     ]
    },
    {
     "data": {
      "text/html": [
       "<div>\n",
       "<style scoped>\n",
       "    .dataframe tbody tr th:only-of-type {\n",
       "        vertical-align: middle;\n",
       "    }\n",
       "\n",
       "    .dataframe tbody tr th {\n",
       "        vertical-align: top;\n",
       "    }\n",
       "\n",
       "    .dataframe thead th {\n",
       "        text-align: right;\n",
       "    }\n",
       "</style>\n",
       "<table border=\"1\" class=\"dataframe\">\n",
       "  <thead>\n",
       "    <tr style=\"text-align: right;\">\n",
       "      <th></th>\n",
       "      <th>firepl_Yes</th>\n",
       "    </tr>\n",
       "  </thead>\n",
       "  <tbody>\n",
       "    <tr>\n",
       "      <th>0</th>\n",
       "      <td>0</td>\n",
       "    </tr>\n",
       "    <tr>\n",
       "      <th>1</th>\n",
       "      <td>0</td>\n",
       "    </tr>\n",
       "    <tr>\n",
       "      <th>2</th>\n",
       "      <td>1</td>\n",
       "    </tr>\n",
       "    <tr>\n",
       "      <th>3</th>\n",
       "      <td>0</td>\n",
       "    </tr>\n",
       "    <tr>\n",
       "      <th>4</th>\n",
       "      <td>1</td>\n",
       "    </tr>\n",
       "  </tbody>\n",
       "</table>\n",
       "</div>"
      ],
      "text/plain": [
       "   firepl_Yes\n",
       "0           0\n",
       "1           0\n",
       "2           1\n",
       "3           0\n",
       "4           1"
      ]
     },
     "execution_count": 30,
     "metadata": {},
     "output_type": "execute_result"
    }
   ],
   "source": [
    "#Fireplace yes will include Gd,TA,Fa,Po,Ex : Yes\n",
    "#Fireplace no will include None : No\n",
    "fireplace_dummy = pd.get_dummies((test_df['fireplace_qu'].map(lambda x:'No'if (x == 'None') else 'Yes')),prefix='firepl', drop_first=True)\n",
    "\n",
    "column_drop.append('fireplace_qu')\n",
    "column_dummy = pd.concat([column_dummy,fireplace_dummy], axis=1)\n",
    "\n",
    "print(fireplace_dummy.sum())\n",
    "fireplace_dummy.head()"
   ]
  },
  {
   "cell_type": "code",
   "execution_count": 31,
   "metadata": {
    "ExecuteTime": {
     "end_time": "2019-12-20T05:46:41.447149Z",
     "start_time": "2019-12-20T05:46:41.414237Z"
    }
   },
   "outputs": [
    {
     "name": "stdout",
     "output_type": "stream",
     "text": [
      "garfin_Unfinish    427\n",
      "dtype: int64\n"
     ]
    },
    {
     "data": {
      "text/html": [
       "<div>\n",
       "<style scoped>\n",
       "    .dataframe tbody tr th:only-of-type {\n",
       "        vertical-align: middle;\n",
       "    }\n",
       "\n",
       "    .dataframe tbody tr th {\n",
       "        vertical-align: top;\n",
       "    }\n",
       "\n",
       "    .dataframe thead th {\n",
       "        text-align: right;\n",
       "    }\n",
       "</style>\n",
       "<table border=\"1\" class=\"dataframe\">\n",
       "  <thead>\n",
       "    <tr style=\"text-align: right;\">\n",
       "      <th></th>\n",
       "      <th>garfin_Unfinish</th>\n",
       "    </tr>\n",
       "  </thead>\n",
       "  <tbody>\n",
       "    <tr>\n",
       "      <th>0</th>\n",
       "      <td>1</td>\n",
       "    </tr>\n",
       "    <tr>\n",
       "      <th>1</th>\n",
       "      <td>0</td>\n",
       "    </tr>\n",
       "    <tr>\n",
       "      <th>2</th>\n",
       "      <td>0</td>\n",
       "    </tr>\n",
       "    <tr>\n",
       "      <th>3</th>\n",
       "      <td>1</td>\n",
       "    </tr>\n",
       "    <tr>\n",
       "      <th>4</th>\n",
       "      <td>0</td>\n",
       "    </tr>\n",
       "  </tbody>\n",
       "</table>\n",
       "</div>"
      ],
      "text/plain": [
       "   garfin_Unfinish\n",
       "0                1\n",
       "1                0\n",
       "2                0\n",
       "3                1\n",
       "4                0"
      ]
     },
     "execution_count": 31,
     "metadata": {},
     "output_type": "execute_result"
    }
   ],
   "source": [
    "#Finished will include Fin, RFn : Finish\n",
    "#Unfinished will include Unfinished and None : Unfinish\n",
    "garage_fin_dummy = pd.get_dummies((test_df['garage_finish'].map(lambda x: 'Finish' if (x == 'Fin' or x == 'RFn') else 'Unfinish')),prefix='garfin', drop_first=True)\n",
    "\n",
    "column_drop.append('garage_finish')\n",
    "column_dummy = pd.concat([column_dummy,garage_fin_dummy], axis=1)\n",
    "\n",
    "print(garage_fin_dummy.sum())\n",
    "garage_fin_dummy.head()"
   ]
  },
  {
   "cell_type": "code",
   "execution_count": 32,
   "metadata": {
    "ExecuteTime": {
     "end_time": "2019-12-20T05:46:41.668747Z",
     "start_time": "2019-12-20T05:46:41.660770Z"
    }
   },
   "outputs": [],
   "source": [
    "#Dropped those feature first that will be replaced with the newly created features later\n",
    "test_df.drop(columns= column_drop, inplace = True)"
   ]
  },
  {
   "cell_type": "code",
   "execution_count": 33,
   "metadata": {
    "ExecuteTime": {
     "end_time": "2019-12-20T05:46:42.690271Z",
     "start_time": "2019-12-20T05:46:42.670743Z"
    }
   },
   "outputs": [
    {
     "data": {
      "text/html": [
       "<div>\n",
       "<style scoped>\n",
       "    .dataframe tbody tr th:only-of-type {\n",
       "        vertical-align: middle;\n",
       "    }\n",
       "\n",
       "    .dataframe tbody tr th {\n",
       "        vertical-align: top;\n",
       "    }\n",
       "\n",
       "    .dataframe thead th {\n",
       "        text-align: right;\n",
       "    }\n",
       "</style>\n",
       "<table border=\"1\" class=\"dataframe\">\n",
       "  <thead>\n",
       "    <tr style=\"text-align: right;\">\n",
       "      <th></th>\n",
       "      <th>year_built</th>\n",
       "      <th>year_remod/add</th>\n",
       "      <th>mas_vnr_area</th>\n",
       "      <th>total_bsmt_sf</th>\n",
       "      <th>1st_flr_sf</th>\n",
       "      <th>gr_liv_area</th>\n",
       "      <th>full_bath</th>\n",
       "      <th>totrms_abvgrd</th>\n",
       "      <th>garage_cars</th>\n",
       "      <th>garage_area</th>\n",
       "    </tr>\n",
       "  </thead>\n",
       "  <tbody>\n",
       "    <tr>\n",
       "      <th>0</th>\n",
       "      <td>1910</td>\n",
       "      <td>1950</td>\n",
       "      <td>0</td>\n",
       "      <td>1020</td>\n",
       "      <td>908</td>\n",
       "      <td>1928</td>\n",
       "      <td>2</td>\n",
       "      <td>9</td>\n",
       "      <td>1</td>\n",
       "      <td>440</td>\n",
       "    </tr>\n",
       "    <tr>\n",
       "      <th>1</th>\n",
       "      <td>1977</td>\n",
       "      <td>1977</td>\n",
       "      <td>0</td>\n",
       "      <td>1967</td>\n",
       "      <td>1967</td>\n",
       "      <td>1967</td>\n",
       "      <td>2</td>\n",
       "      <td>10</td>\n",
       "      <td>2</td>\n",
       "      <td>580</td>\n",
       "    </tr>\n",
       "    <tr>\n",
       "      <th>2</th>\n",
       "      <td>2006</td>\n",
       "      <td>2006</td>\n",
       "      <td>0</td>\n",
       "      <td>654</td>\n",
       "      <td>664</td>\n",
       "      <td>1496</td>\n",
       "      <td>2</td>\n",
       "      <td>7</td>\n",
       "      <td>2</td>\n",
       "      <td>426</td>\n",
       "    </tr>\n",
       "    <tr>\n",
       "      <th>3</th>\n",
       "      <td>1923</td>\n",
       "      <td>2006</td>\n",
       "      <td>0</td>\n",
       "      <td>968</td>\n",
       "      <td>968</td>\n",
       "      <td>968</td>\n",
       "      <td>1</td>\n",
       "      <td>5</td>\n",
       "      <td>2</td>\n",
       "      <td>480</td>\n",
       "    </tr>\n",
       "    <tr>\n",
       "      <th>4</th>\n",
       "      <td>1963</td>\n",
       "      <td>1963</td>\n",
       "      <td>247</td>\n",
       "      <td>1394</td>\n",
       "      <td>1394</td>\n",
       "      <td>1394</td>\n",
       "      <td>1</td>\n",
       "      <td>6</td>\n",
       "      <td>2</td>\n",
       "      <td>514</td>\n",
       "    </tr>\n",
       "  </tbody>\n",
       "</table>\n",
       "</div>"
      ],
      "text/plain": [
       "   year_built  year_remod/add  mas_vnr_area  total_bsmt_sf  1st_flr_sf  \\\n",
       "0        1910            1950             0           1020         908   \n",
       "1        1977            1977             0           1967        1967   \n",
       "2        2006            2006             0            654         664   \n",
       "3        1923            2006             0            968         968   \n",
       "4        1963            1963           247           1394        1394   \n",
       "\n",
       "   gr_liv_area  full_bath  totrms_abvgrd  garage_cars  garage_area  \n",
       "0         1928          2              9            1          440  \n",
       "1         1967          2             10            2          580  \n",
       "2         1496          2              7            2          426  \n",
       "3          968          1              5            2          480  \n",
       "4         1394          1              6            2          514  "
      ]
     },
     "execution_count": 33,
     "metadata": {},
     "output_type": "execute_result"
    }
   ],
   "source": [
    "test_df.head()"
   ]
  },
  {
   "cell_type": "code",
   "execution_count": 34,
   "metadata": {
    "ExecuteTime": {
     "end_time": "2019-12-20T05:46:43.517468Z",
     "start_time": "2019-12-20T05:46:43.505500Z"
    }
   },
   "outputs": [],
   "source": [
    "#Create new dataframe for selected features, newly created features and dummy coded variable columns\n",
    "test_df = pd.concat([test_df, column_dummy], axis=1)"
   ]
  },
  {
   "cell_type": "markdown",
   "metadata": {},
   "source": [
    "## Create feature matrix (`X`) and target vector (`y`) on the train set to be used in our model."
   ]
  },
  {
   "cell_type": "code",
   "execution_count": 35,
   "metadata": {
    "ExecuteTime": {
     "end_time": "2019-12-20T05:46:45.620134Z",
     "start_time": "2019-12-20T05:46:45.567273Z"
    }
   },
   "outputs": [],
   "source": [
    "#Reading the train data\n",
    "train_df = pd.read_csv(\"../datasets/newtrain.csv\")"
   ]
  },
  {
   "cell_type": "code",
   "execution_count": 36,
   "metadata": {
    "ExecuteTime": {
     "end_time": "2019-12-20T05:46:48.541093Z",
     "start_time": "2019-12-20T05:46:48.475298Z"
    }
   },
   "outputs": [
    {
     "data": {
      "text/html": [
       "<div>\n",
       "<style scoped>\n",
       "    .dataframe tbody tr th:only-of-type {\n",
       "        vertical-align: middle;\n",
       "    }\n",
       "\n",
       "    .dataframe tbody tr th {\n",
       "        vertical-align: top;\n",
       "    }\n",
       "\n",
       "    .dataframe thead th {\n",
       "        text-align: right;\n",
       "    }\n",
       "</style>\n",
       "<table border=\"1\" class=\"dataframe\">\n",
       "  <thead>\n",
       "    <tr style=\"text-align: right;\">\n",
       "      <th></th>\n",
       "      <th>Unnamed: 0</th>\n",
       "      <th>year_built</th>\n",
       "      <th>year_remod/add</th>\n",
       "      <th>mas_vnr_area</th>\n",
       "      <th>total_bsmt_sf</th>\n",
       "      <th>1st_flr_sf</th>\n",
       "      <th>gr_liv_area</th>\n",
       "      <th>full_bath</th>\n",
       "      <th>totrms_abvgrd</th>\n",
       "      <th>garage_cars</th>\n",
       "      <th>garage_area</th>\n",
       "      <th>saleprice</th>\n",
       "      <th>mssub_30</th>\n",
       "      <th>mssub_40</th>\n",
       "      <th>mssub_45</th>\n",
       "      <th>mssub_50</th>\n",
       "      <th>mssub_60</th>\n",
       "      <th>mssub_70</th>\n",
       "      <th>mssub_75</th>\n",
       "      <th>mssub_80</th>\n",
       "      <th>mssub_85</th>\n",
       "      <th>mssub_90</th>\n",
       "      <th>mssub_120</th>\n",
       "      <th>mssub_150</th>\n",
       "      <th>mssub_160</th>\n",
       "      <th>mssub_180</th>\n",
       "      <th>mssub_190</th>\n",
       "      <th>rfstyle_Gable</th>\n",
       "      <th>rfstyle_Gambrel</th>\n",
       "      <th>rfstyle_Hip</th>\n",
       "      <th>rfstyle_Mansard</th>\n",
       "      <th>rfstyle_Shed</th>\n",
       "      <th>neigh_Blueste</th>\n",
       "      <th>neigh_BrDale</th>\n",
       "      <th>neigh_BrkSide</th>\n",
       "      <th>neigh_ClearCr</th>\n",
       "      <th>neigh_CollgCr</th>\n",
       "      <th>neigh_Crawfor</th>\n",
       "      <th>neigh_Edwards</th>\n",
       "      <th>neigh_Gilbert</th>\n",
       "      <th>neigh_Greens</th>\n",
       "      <th>neigh_GrnHill</th>\n",
       "      <th>neigh_IDOTRR</th>\n",
       "      <th>neigh_Landmrk</th>\n",
       "      <th>neigh_MeadowV</th>\n",
       "      <th>neigh_Mitchel</th>\n",
       "      <th>neigh_NAmes</th>\n",
       "      <th>neigh_NPkVill</th>\n",
       "      <th>neigh_NWAmes</th>\n",
       "      <th>neigh_NoRidge</th>\n",
       "      <th>neigh_NridgHt</th>\n",
       "      <th>neigh_OldTown</th>\n",
       "      <th>neigh_SWISU</th>\n",
       "      <th>neigh_Sawyer</th>\n",
       "      <th>neigh_SawyerW</th>\n",
       "      <th>neigh_Somerst</th>\n",
       "      <th>neigh_StoneBr</th>\n",
       "      <th>neigh_Timber</th>\n",
       "      <th>neigh_Veenker</th>\n",
       "      <th>mvtype_BrkFace</th>\n",
       "      <th>mvtype_None</th>\n",
       "      <th>mvtype_Stone</th>\n",
       "      <th>fnd_CBlock</th>\n",
       "      <th>fnd_PConc</th>\n",
       "      <th>fnd_Slab</th>\n",
       "      <th>fnd_Stone</th>\n",
       "      <th>fnd_Wood</th>\n",
       "      <th>gartyp_Attchd</th>\n",
       "      <th>gartyp_Basment</th>\n",
       "      <th>gartyp_BuiltIn</th>\n",
       "      <th>gartyp_CarPort</th>\n",
       "      <th>gartyp_Detchd</th>\n",
       "      <th>gartyp_None</th>\n",
       "      <th>Res_Yes</th>\n",
       "      <th>shapereg_Yes</th>\n",
       "      <th>lotInside_Yes</th>\n",
       "      <th>1story_Yes</th>\n",
       "      <th>overallqty_below</th>\n",
       "      <th>overcond_below</th>\n",
       "      <th>mat_morethan1_1</th>\n",
       "      <th>extqual_below</th>\n",
       "      <th>bsmtheight_below80inc</th>\n",
       "      <th>bsmtexp_Yes</th>\n",
       "      <th>bsmtfin_Yes</th>\n",
       "      <th>heatqc_below</th>\n",
       "      <th>kitqc_below</th>\n",
       "      <th>firepl_Yes</th>\n",
       "      <th>garfin_Unfinish</th>\n",
       "    </tr>\n",
       "  </thead>\n",
       "  <tbody>\n",
       "    <tr>\n",
       "      <th>0</th>\n",
       "      <td>0</td>\n",
       "      <td>2009</td>\n",
       "      <td>2010</td>\n",
       "      <td>760</td>\n",
       "      <td>2330</td>\n",
       "      <td>2364</td>\n",
       "      <td>2364</td>\n",
       "      <td>2</td>\n",
       "      <td>11</td>\n",
       "      <td>3</td>\n",
       "      <td>820</td>\n",
       "      <td>611657</td>\n",
       "      <td>0</td>\n",
       "      <td>0</td>\n",
       "      <td>0</td>\n",
       "      <td>0</td>\n",
       "      <td>0</td>\n",
       "      <td>0</td>\n",
       "      <td>0</td>\n",
       "      <td>0</td>\n",
       "      <td>0</td>\n",
       "      <td>0</td>\n",
       "      <td>0</td>\n",
       "      <td>0</td>\n",
       "      <td>0</td>\n",
       "      <td>0</td>\n",
       "      <td>0</td>\n",
       "      <td>0</td>\n",
       "      <td>0</td>\n",
       "      <td>1</td>\n",
       "      <td>0</td>\n",
       "      <td>0</td>\n",
       "      <td>0</td>\n",
       "      <td>0</td>\n",
       "      <td>0</td>\n",
       "      <td>0</td>\n",
       "      <td>0</td>\n",
       "      <td>0</td>\n",
       "      <td>0</td>\n",
       "      <td>0</td>\n",
       "      <td>0</td>\n",
       "      <td>0</td>\n",
       "      <td>0</td>\n",
       "      <td>0</td>\n",
       "      <td>0</td>\n",
       "      <td>0</td>\n",
       "      <td>0</td>\n",
       "      <td>0</td>\n",
       "      <td>0</td>\n",
       "      <td>0</td>\n",
       "      <td>1</td>\n",
       "      <td>0</td>\n",
       "      <td>0</td>\n",
       "      <td>0</td>\n",
       "      <td>0</td>\n",
       "      <td>0</td>\n",
       "      <td>0</td>\n",
       "      <td>0</td>\n",
       "      <td>0</td>\n",
       "      <td>0</td>\n",
       "      <td>0</td>\n",
       "      <td>1</td>\n",
       "      <td>0</td>\n",
       "      <td>1</td>\n",
       "      <td>0</td>\n",
       "      <td>0</td>\n",
       "      <td>0</td>\n",
       "      <td>1</td>\n",
       "      <td>0</td>\n",
       "      <td>0</td>\n",
       "      <td>0</td>\n",
       "      <td>0</td>\n",
       "      <td>0</td>\n",
       "      <td>1</td>\n",
       "      <td>0</td>\n",
       "      <td>1</td>\n",
       "      <td>1</td>\n",
       "      <td>0</td>\n",
       "      <td>1</td>\n",
       "      <td>0</td>\n",
       "      <td>0</td>\n",
       "      <td>0</td>\n",
       "      <td>1</td>\n",
       "      <td>1</td>\n",
       "      <td>0</td>\n",
       "      <td>0</td>\n",
       "      <td>1</td>\n",
       "      <td>0</td>\n",
       "    </tr>\n",
       "    <tr>\n",
       "      <th>1</th>\n",
       "      <td>1</td>\n",
       "      <td>2006</td>\n",
       "      <td>2007</td>\n",
       "      <td>710</td>\n",
       "      <td>2660</td>\n",
       "      <td>2338</td>\n",
       "      <td>2338</td>\n",
       "      <td>2</td>\n",
       "      <td>8</td>\n",
       "      <td>3</td>\n",
       "      <td>1110</td>\n",
       "      <td>591587</td>\n",
       "      <td>0</td>\n",
       "      <td>0</td>\n",
       "      <td>0</td>\n",
       "      <td>0</td>\n",
       "      <td>0</td>\n",
       "      <td>0</td>\n",
       "      <td>0</td>\n",
       "      <td>0</td>\n",
       "      <td>0</td>\n",
       "      <td>0</td>\n",
       "      <td>0</td>\n",
       "      <td>0</td>\n",
       "      <td>0</td>\n",
       "      <td>0</td>\n",
       "      <td>0</td>\n",
       "      <td>0</td>\n",
       "      <td>0</td>\n",
       "      <td>1</td>\n",
       "      <td>0</td>\n",
       "      <td>0</td>\n",
       "      <td>0</td>\n",
       "      <td>0</td>\n",
       "      <td>0</td>\n",
       "      <td>0</td>\n",
       "      <td>0</td>\n",
       "      <td>0</td>\n",
       "      <td>0</td>\n",
       "      <td>0</td>\n",
       "      <td>0</td>\n",
       "      <td>0</td>\n",
       "      <td>0</td>\n",
       "      <td>0</td>\n",
       "      <td>0</td>\n",
       "      <td>0</td>\n",
       "      <td>0</td>\n",
       "      <td>0</td>\n",
       "      <td>0</td>\n",
       "      <td>0</td>\n",
       "      <td>0</td>\n",
       "      <td>0</td>\n",
       "      <td>0</td>\n",
       "      <td>0</td>\n",
       "      <td>0</td>\n",
       "      <td>0</td>\n",
       "      <td>1</td>\n",
       "      <td>0</td>\n",
       "      <td>0</td>\n",
       "      <td>1</td>\n",
       "      <td>0</td>\n",
       "      <td>0</td>\n",
       "      <td>0</td>\n",
       "      <td>1</td>\n",
       "      <td>0</td>\n",
       "      <td>0</td>\n",
       "      <td>0</td>\n",
       "      <td>1</td>\n",
       "      <td>0</td>\n",
       "      <td>0</td>\n",
       "      <td>0</td>\n",
       "      <td>0</td>\n",
       "      <td>0</td>\n",
       "      <td>1</td>\n",
       "      <td>0</td>\n",
       "      <td>0</td>\n",
       "      <td>1</td>\n",
       "      <td>0</td>\n",
       "      <td>1</td>\n",
       "      <td>0</td>\n",
       "      <td>0</td>\n",
       "      <td>0</td>\n",
       "      <td>1</td>\n",
       "      <td>1</td>\n",
       "      <td>0</td>\n",
       "      <td>0</td>\n",
       "      <td>1</td>\n",
       "      <td>0</td>\n",
       "    </tr>\n",
       "  </tbody>\n",
       "</table>\n",
       "</div>"
      ],
      "text/plain": [
       "   Unnamed: 0  year_built  year_remod/add  mas_vnr_area  total_bsmt_sf  \\\n",
       "0           0        2009            2010           760           2330   \n",
       "1           1        2006            2007           710           2660   \n",
       "\n",
       "   1st_flr_sf  gr_liv_area  full_bath  totrms_abvgrd  garage_cars  \\\n",
       "0        2364         2364          2             11            3   \n",
       "1        2338         2338          2              8            3   \n",
       "\n",
       "   garage_area  saleprice  mssub_30  mssub_40  mssub_45  mssub_50  mssub_60  \\\n",
       "0          820     611657         0         0         0         0         0   \n",
       "1         1110     591587         0         0         0         0         0   \n",
       "\n",
       "   mssub_70  mssub_75  mssub_80  mssub_85  mssub_90  mssub_120  mssub_150  \\\n",
       "0         0         0         0         0         0          0          0   \n",
       "1         0         0         0         0         0          0          0   \n",
       "\n",
       "   mssub_160  mssub_180  mssub_190  rfstyle_Gable  rfstyle_Gambrel  \\\n",
       "0          0          0          0              0                0   \n",
       "1          0          0          0              0                0   \n",
       "\n",
       "   rfstyle_Hip  rfstyle_Mansard  rfstyle_Shed  neigh_Blueste  neigh_BrDale  \\\n",
       "0            1                0             0              0             0   \n",
       "1            1                0             0              0             0   \n",
       "\n",
       "   neigh_BrkSide  neigh_ClearCr  neigh_CollgCr  neigh_Crawfor  neigh_Edwards  \\\n",
       "0              0              0              0              0              0   \n",
       "1              0              0              0              0              0   \n",
       "\n",
       "   neigh_Gilbert  neigh_Greens  neigh_GrnHill  neigh_IDOTRR  neigh_Landmrk  \\\n",
       "0              0             0              0             0              0   \n",
       "1              0             0              0             0              0   \n",
       "\n",
       "   neigh_MeadowV  neigh_Mitchel  neigh_NAmes  neigh_NPkVill  neigh_NWAmes  \\\n",
       "0              0              0            0              0             0   \n",
       "1              0              0            0              0             0   \n",
       "\n",
       "   neigh_NoRidge  neigh_NridgHt  neigh_OldTown  neigh_SWISU  neigh_Sawyer  \\\n",
       "0              0              1              0            0             0   \n",
       "1              0              0              0            0             0   \n",
       "\n",
       "   neigh_SawyerW  neigh_Somerst  neigh_StoneBr  neigh_Timber  neigh_Veenker  \\\n",
       "0              0              0              0             0              0   \n",
       "1              0              0              1             0              0   \n",
       "\n",
       "   mvtype_BrkFace  mvtype_None  mvtype_Stone  fnd_CBlock  fnd_PConc  fnd_Slab  \\\n",
       "0               0            0             1           0          1         0   \n",
       "1               1            0             0           0          1         0   \n",
       "\n",
       "   fnd_Stone  fnd_Wood  gartyp_Attchd  gartyp_Basment  gartyp_BuiltIn  \\\n",
       "0          0         0              1               0               0   \n",
       "1          0         0              1               0               0   \n",
       "\n",
       "   gartyp_CarPort  gartyp_Detchd  gartyp_None  Res_Yes  shapereg_Yes  \\\n",
       "0               0              0            0        1             0   \n",
       "1               0              0            0        1             0   \n",
       "\n",
       "   lotInside_Yes  1story_Yes  overallqty_below  overcond_below  \\\n",
       "0              1           1                 0               1   \n",
       "1              0           1                 0               1   \n",
       "\n",
       "   mat_morethan1_1  extqual_below  bsmtheight_below80inc  bsmtexp_Yes  \\\n",
       "0                0              0                      0            1   \n",
       "1                0              0                      0            1   \n",
       "\n",
       "   bsmtfin_Yes  heatqc_below  kitqc_below  firepl_Yes  garfin_Unfinish  \n",
       "0            1             0            0           1                0  \n",
       "1            1             0            0           1                0  "
      ]
     },
     "execution_count": 36,
     "metadata": {},
     "output_type": "execute_result"
    }
   ],
   "source": [
    "train_df.head(2)"
   ]
  },
  {
   "cell_type": "code",
   "execution_count": 37,
   "metadata": {
    "ExecuteTime": {
     "end_time": "2019-12-20T05:46:49.025997Z",
     "start_time": "2019-12-20T05:46:49.017052Z"
    }
   },
   "outputs": [],
   "source": [
    "train_df.drop(columns='Unnamed: 0', inplace=True)"
   ]
  },
  {
   "cell_type": "code",
   "execution_count": 38,
   "metadata": {
    "ExecuteTime": {
     "end_time": "2019-12-20T05:46:49.577514Z",
     "start_time": "2019-12-20T05:46:49.566572Z"
    }
   },
   "outputs": [],
   "source": [
    "#Saleprice is our target\n",
    "target = 'saleprice'\n",
    "\n",
    "#Select 25 features based on the Lasson model built \n",
    "features = ['gr_liv_area','neigh_NridgHt','neigh_StoneBr','year_built','bsmtexp_Yes',\\\n",
    "            'mas_vnr_area','garage_cars','bsmtfin_Yes','garage_area','firepl_Yes',\\\n",
    "            'neigh_Crawfor','neigh_Somerst','rfstyle_Hip','year_remod/add','neigh_NoRidge',\\\n",
    "            '1story_Yes','neigh_GrnHill','mssub_75','gartyp_None','mvtype_None',\\\n",
    "            'overallqty_below','overcond_below','extqual_below','mssub_160','mssub_120']\n",
    "\n",
    "X = train_df[features]\n",
    "y = train_df[target]"
   ]
  },
  {
   "cell_type": "markdown",
   "metadata": {},
   "source": [
    "### Using Lasso models"
   ]
  },
  {
   "cell_type": "code",
   "execution_count": 39,
   "metadata": {
    "ExecuteTime": {
     "end_time": "2019-12-20T05:46:50.854791Z",
     "start_time": "2019-12-20T05:46:50.848803Z"
    }
   },
   "outputs": [],
   "source": [
    "lasso = LassoCV(n_alphas=500)"
   ]
  },
  {
   "cell_type": "code",
   "execution_count": 40,
   "metadata": {
    "ExecuteTime": {
     "end_time": "2019-12-20T05:46:51.468783Z",
     "start_time": "2019-12-20T05:46:51.458809Z"
    }
   },
   "outputs": [],
   "source": [
    "X_train_model, X_test_model, y_train_model, y_test_model = train_test_split(X, y, random_state=42)"
   ]
  },
  {
   "cell_type": "code",
   "execution_count": 41,
   "metadata": {
    "ExecuteTime": {
     "end_time": "2019-12-20T05:46:52.113361Z",
     "start_time": "2019-12-20T05:46:52.063524Z"
    }
   },
   "outputs": [
    {
     "name": "stderr",
     "output_type": "stream",
     "text": [
      "C:\\Users\\PQKoh\\Anaconda3\\lib\\site-packages\\sklearn\\preprocessing\\data.py:645: DataConversionWarning: Data with input dtype int64 were all converted to float64 by StandardScaler.\n",
      "  return self.partial_fit(X, y)\n",
      "C:\\Users\\PQKoh\\Anaconda3\\lib\\site-packages\\sklearn\\base.py:464: DataConversionWarning: Data with input dtype int64 were all converted to float64 by StandardScaler.\n",
      "  return self.fit(X, **fit_params).transform(X)\n",
      "C:\\Users\\PQKoh\\Anaconda3\\lib\\site-packages\\ipykernel_launcher.py:3: DataConversionWarning: Data with input dtype int64 were all converted to float64 by StandardScaler.\n",
      "  This is separate from the ipykernel package so we can avoid doing imports until\n"
     ]
    }
   ],
   "source": [
    "ss = StandardScaler()\n",
    "X_train_model_sc = ss.fit_transform(X_train_model)\n",
    "X_test_model_sc = ss.transform(X_test_model)"
   ]
  },
  {
   "cell_type": "markdown",
   "metadata": {},
   "source": [
    "### Fitting the model"
   ]
  },
  {
   "cell_type": "code",
   "execution_count": 46,
   "metadata": {
    "ExecuteTime": {
     "end_time": "2019-12-20T05:47:51.247621Z",
     "start_time": "2019-12-20T05:47:50.762441Z"
    },
    "scrolled": true
   },
   "outputs": [
    {
     "name": "stderr",
     "output_type": "stream",
     "text": [
      "C:\\Users\\PQKoh\\Anaconda3\\lib\\site-packages\\sklearn\\model_selection\\_split.py:2052: FutureWarning: You should specify a value for 'cv' instead of relying on the default value. The default value will change from 3 to 5 in version 0.22.\n",
      "  warnings.warn(CV_WARNING, FutureWarning)\n"
     ]
    },
    {
     "data": {
      "text/plain": [
       "LassoCV(alphas=None, copy_X=True, cv='warn', eps=0.001, fit_intercept=True,\n",
       "    max_iter=1000, n_alphas=500, n_jobs=None, normalize=False,\n",
       "    positive=False, precompute='auto', random_state=None,\n",
       "    selection='cyclic', tol=0.0001, verbose=False)"
      ]
     },
     "execution_count": 46,
     "metadata": {},
     "output_type": "execute_result"
    }
   ],
   "source": [
    "lasso.fit(X_train_model_sc, y_train_model)"
   ]
  },
  {
   "cell_type": "markdown",
   "metadata": {},
   "source": [
    "## Create our feature matrix (`X1`) for the test set"
   ]
  },
  {
   "cell_type": "code",
   "execution_count": 47,
   "metadata": {
    "ExecuteTime": {
     "end_time": "2019-12-20T05:48:04.198210Z",
     "start_time": "2019-12-20T05:48:04.187236Z"
    }
   },
   "outputs": [],
   "source": [
    "#Using the same 25 features  \n",
    "X1 = test_df[features]"
   ]
  },
  {
   "cell_type": "code",
   "execution_count": 48,
   "metadata": {
    "ExecuteTime": {
     "end_time": "2019-12-20T05:48:04.992479Z",
     "start_time": "2019-12-20T05:48:04.981545Z"
    }
   },
   "outputs": [
    {
     "name": "stderr",
     "output_type": "stream",
     "text": [
      "C:\\Users\\PQKoh\\Anaconda3\\lib\\site-packages\\ipykernel_launcher.py:1: DataConversionWarning: Data with input dtype uint8, int32, int64 were all converted to float64 by StandardScaler.\n",
      "  \"\"\"Entry point for launching an IPython kernel.\n"
     ]
    }
   ],
   "source": [
    "X1_sc = ss.transform(X1)"
   ]
  },
  {
   "cell_type": "code",
   "execution_count": 49,
   "metadata": {
    "ExecuteTime": {
     "end_time": "2019-12-20T05:48:05.688097Z",
     "start_time": "2019-12-20T05:48:05.680122Z"
    }
   },
   "outputs": [
    {
     "data": {
      "text/plain": [
       "(879, 25)"
      ]
     },
     "execution_count": 49,
     "metadata": {},
     "output_type": "execute_result"
    }
   ],
   "source": [
    "X1_sc.shape"
   ]
  },
  {
   "cell_type": "code",
   "execution_count": 50,
   "metadata": {
    "ExecuteTime": {
     "end_time": "2019-12-20T05:48:06.688615Z",
     "start_time": "2019-12-20T05:48:06.682635Z"
    }
   },
   "outputs": [],
   "source": [
    "prediction_new = lasso.predict(X1_sc)"
   ]
  },
  {
   "cell_type": "code",
   "execution_count": 51,
   "metadata": {
    "ExecuteTime": {
     "end_time": "2019-12-20T05:48:10.536973Z",
     "start_time": "2019-12-20T05:48:10.531986Z"
    }
   },
   "outputs": [],
   "source": [
    "pred_df = pd.DataFrame(prediction_new)"
   ]
  },
  {
   "cell_type": "code",
   "execution_count": 52,
   "metadata": {
    "ExecuteTime": {
     "end_time": "2019-12-20T05:48:11.937044Z",
     "start_time": "2019-12-20T05:48:11.921087Z"
    }
   },
   "outputs": [],
   "source": [
    "#output the predicted value to a new .csv file \n",
    "pred_df.to_csv(\"../datasets/predictions.csv\")"
   ]
  },
  {
   "cell_type": "markdown",
   "metadata": {
    "ExecuteTime": {
     "end_time": "2019-12-20T05:49:37.945281Z",
     "start_time": "2019-12-20T05:49:37.936275Z"
    }
   },
   "source": [
    "<img src=\"../files/kaggle.png\">"
   ]
  }
 ],
 "metadata": {
  "kernelspec": {
   "display_name": "Python 3",
   "language": "python",
   "name": "python3"
  },
  "language_info": {
   "codemirror_mode": {
    "name": "ipython",
    "version": 3
   },
   "file_extension": ".py",
   "mimetype": "text/x-python",
   "name": "python",
   "nbconvert_exporter": "python",
   "pygments_lexer": "ipython3",
   "version": "3.7.3"
  },
  "toc": {
   "base_numbering": 1,
   "nav_menu": {},
   "number_sections": true,
   "sideBar": true,
   "skip_h1_title": false,
   "title_cell": "Table of Contents",
   "title_sidebar": "Contents",
   "toc_cell": false,
   "toc_position": {},
   "toc_section_display": true,
   "toc_window_display": false
  }
 },
 "nbformat": 4,
 "nbformat_minor": 2
}
